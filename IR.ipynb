{
 "cells": [
  {
   "cell_type": "code",
   "execution_count": 48,
   "metadata": {},
   "outputs": [],
   "source": [
    "import wikipedia\n",
    "import random\n",
    "from IPython.display import clear_output\n",
    "import pickle\n",
    "wikipedia.set_lang(\"en\")\n",
    "import numpy as np\n",
    "import spacy"
   ]
  },
  {
   "cell_type": "markdown",
   "metadata": {},
   "source": [
    "# Analiza gatunków ptaków świata\n",
    "Gromadzenie danych: wykorzystujemy Wikipedia API"
   ]
  },
  {
   "cell_type": "code",
   "execution_count": null,
   "metadata": {},
   "outputs": [],
   "source": [
    "categories = [\"List_of_birds_of_Africa\", \"List_of_birds_of_Europe\", \n",
    "              \"Birds_of_the_United_States\", \"List_of_birds_of_Asia\",\n",
    "              \"List_of_birds_of_South_America\"]"
   ]
  },
  {
   "cell_type": "code",
   "execution_count": 15,
   "metadata": {},
   "outputs": [],
   "source": [
    "all_birds = list()\n",
    "for category in categories:\n",
    "    all_birds += wikipedia.page(category).links\n",
    "    \n",
    "random.shuffle(all_birds)"
   ]
  },
  {
   "cell_type": "code",
   "execution_count": 19,
   "metadata": {},
   "outputs": [],
   "source": [
    "considered_birds = all_birds[0:1000]"
   ]
  },
  {
   "cell_type": "code",
   "execution_count": 25,
   "metadata": {},
   "outputs": [
    {
     "name": "stdout",
     "output_type": "stream",
     "text": [
      "999of1000\n"
     ]
    }
   ],
   "source": [
    "bird_pages = list()\n",
    "for i in range(1000):\n",
    "    try:\n",
    "        bird_pages.append(wikipedia.page(considered_birds[i]))\n",
    "    except:\n",
    "        pass\n",
    "    clear_output(wait=True)\n",
    "    print(str(i) + \"of\" + \"1000\")"
   ]
  },
  {
   "cell_type": "markdown",
   "metadata": {},
   "source": [
    "# Serializacja pobranych stron\n",
    "Pobrane strony przechowujemy jako listę wikipedia.page.\n",
    "Typ ten zapewnia nam dostęp do:\n",
    "- linków wychodzących: page.links\n",
    "- linków do zdjęć: page.images\n",
    "- zawartości strony: page.content\n",
    "- podsumowania: page.summary"
   ]
  },
  {
   "cell_type": "code",
   "execution_count": 31,
   "metadata": {},
   "outputs": [],
   "source": [
    "pages_file = \"pages.bin\"\n",
    "with open(pages_file, 'wb') as file:\n",
    "    pickle.dump(bird_pages, file)"
   ]
  },
  {
   "cell_type": "markdown",
   "metadata": {},
   "source": [
    "# Początek analizy"
   ]
  },
  {
   "cell_type": "code",
   "execution_count": 32,
   "metadata": {},
   "outputs": [],
   "source": [
    "pages_file = \"pages.bin\"\n",
    "pages = None\n",
    "with open(pages_file, 'rb') as file:\n",
    "    pages = pickle.load(file)"
   ]
  },
  {
   "cell_type": "code",
   "execution_count": 33,
   "metadata": {},
   "outputs": [
    {
     "name": "stdout",
     "output_type": "stream",
     "text": [
      "[<WikipediaPage 'Blackish rail'>, <WikipediaPage 'Creamy-bellied thrush'>, <WikipediaPage 'Rusty-faced parrot'>, <WikipediaPage 'Bahia spinetail'>, <WikipediaPage 'Sickle-winged nightjar'>, <WikipediaPage 'Andean teal'>, <WikipediaPage 'Guaiabero'>, <WikipediaPage 'Buff-banded rail'>, <WikipediaPage 'Pallas's fish eagle'>]\n"
     ]
    }
   ],
   "source": [
    "print(pages[1:10])"
   ]
  },
  {
   "cell_type": "code",
   "execution_count": 36,
   "metadata": {},
   "outputs": [
    {
     "data": {
      "text/plain": [
       "\"Swinhoe's storm petrel\""
      ]
     },
     "execution_count": 36,
     "metadata": {},
     "output_type": "execute_result"
    }
   ],
   "source": [
    "sample_page = pages[np.random.randint(0, len(pages))]\n",
    "sample_page.title"
   ]
  },
  {
   "cell_type": "code",
   "execution_count": 55,
   "metadata": {},
   "outputs": [
    {
     "name": "stdout",
     "output_type": "stream",
     "text": [
      "Swinhoe's storm petrel (Oceanodroma monorhis ), also known as Swinhoe's petrel, is a small, all-brown seabird of the storm petrel family Hydrobatidae. The scientific name is derived from Ancient Greek. Hydrobates is from hudro, \"water\", and bates, \"walker\", and monorhis is from monos, \"single\" and rhinos, \"nostril\".\n",
      "\n",
      "\n",
      "== Distribution ==\n",
      "It breeds on islands in the northwest Pacific off China, Japan and Korea. It nests in colonies close to the sea in rock crevices and lays a single white egg. It spends the rest of the year at sea, ranging into the Indian Ocean and Arabian Sea. It breeds on Verkhovsky Island (7,500 pairs), south of Vladivostok, Russia, and Japan (a minimum of 1,000 pairs). There are little-known populations in China, Taiwan (China), North Korea and South Korea, and records suggest that breeding possibly occurs in the North Atlantic. In winter, it migrates south and west to the northern Indian Ocean (Brooke 2004). Sato et al. (2010) also estimate the world population at a minimum of 130,000 pairs, confirming that the species has a very large population. However, Birds Korea (2010) state that c.100,000 pairs nest on Gugeul Islet, implying that possibly over 75% of the global population breed on one very small island. The species nests at six or seven breeding islets in South Korea (Chang-Yong Choi in litt. 2012). There is apparently anecdotal evidence that some colonies are in decline (N. Moores in litt. 2011).\n",
      "\n",
      "\n",
      "== Description ==\n",
      "Swinhoe's storm petrel is a small bird, 18–21 cm in length with a 45–48 cm wingspan, though distinctly larger than the European storm petrel. It is essentially dark brown in all plumages, and has a fluttering flight, pattering on the water surface as it picks planktonic food items from the ocean surface. Unlike the European storm petrel, it does not follow ships.\n",
      "In structure it most resembles a Leach's storm petrel with its forked tail, longish wings, and flight behaviour, but does not have a white rump and the call differs. It is difficult to distinguish from other all-dark Oceanodroma species, and the first English record had to be DNA-tested to eliminate the possibility that it was a Leach's storm petrel, since populations of north-eastern Pacific Leach's storm petrels contain individuals that show completely dark rumps.\n",
      "\n",
      "\n",
      "== Habits and observation ==\n",
      "This storm petrel is strictly nocturnal at the breeding sites to avoid predation by gulls and skuas, and will even avoid coming to land on clear moonlit nights. Like most petrels, its walking ability is limited to a short shuffle to the burrow. It is strictly pelagic outside the breeding season, and this, together with its remote breeding sites, makes Swinhoe's petrel a difficult bird to see from land. Only in storms might this species be pushed into headlands, but even then an out of range bird would probably defy definite identification. It feeds mainly on the wing by dipping and does not patter.\n",
      "\n",
      "\n",
      "== Status ==\n",
      "Widespread throughout its large range, the Swinhoe's storm petrel was previously evaluated as least concern on the IUCN Red List of Threatened Species, but was uplisted to near threatened in 2012. The population is expected to undergo a moderately rapid decline over the next three generations, owing primarily to the impact of introduced species.\n",
      "\n",
      "\n",
      "== North Atlantic status ==\n",
      "On 8 July 1983, a bird was trapped on the Selvagens, Madeira and was confirmed to be the first record for the Atlantic Ocean. Since then a number of storm petrels exhibiting plumage and structural characteristics have been recorded at sea, principally in the North Atlantic, while birds were trapped during the summer months in France (1989), England (1989 (two birds), 1990 (with birds retrapped from 1991 to 1994)), Spain (1994), Norway (1996, 1997), and again Madeira (1991, 1994). Other than the east North Atlantic and the Mediterranean Sea a number of other individuals have been identified in the western North Atlantic. Records of single birds off Hatteras, North Carolina, on 20 August 1993, on 8 August 1998, and 2 June 2008 have all been accepted as valid North American records.\n",
      "\n",
      "\n",
      "== References ==\n",
      "\n",
      "\n",
      "== External links ==\n",
      "Species factsheet - BirdLife International\n",
      "Birding Israel\n",
      "Flicker Field Guide Birds of the World Photographs\n",
      "Russian Nature Photographs\n",
      "Video off Madeira Island\n"
     ]
    }
   ],
   "source": [
    "text_data = sample_page.content\n",
    "print(text_data)"
   ]
  },
  {
   "cell_type": "markdown",
   "metadata": {},
   "source": [
    "Do ekstrakcji informacji geograficznych wykorzystujemy bibliotekę spacy.\n",
    "Należy pobrać model językowy komendą: sudo python3 -m spacy download en_core_web_sm"
   ]
  },
  {
   "cell_type": "code",
   "execution_count": 50,
   "metadata": {},
   "outputs": [],
   "source": [
    "nlp = spacy.load('en_core_web_sm')\n",
    "doc = nlp(text_data)"
   ]
  },
  {
   "cell_type": "code",
   "execution_count": 56,
   "metadata": {},
   "outputs": [
    {
     "name": "stdout",
     "output_type": "stream",
     "text": [
      "Pacific 377 384 LOC\n",
      "the Indian Ocean 549 565 LOC\n",
      "Arabian Sea 570 581 LOC\n",
      "the North Atlantic 840 858 LOC\n",
      "Indian Ocean 914 926 LOC\n",
      "North Atlantic 3310 3324 LOC\n",
      "the Atlantic Ocean 3441 3459 LOC\n",
      "the North Atlantic 3590 3608 LOC\n",
      "North Atlantic 3840 3854 LOC\n",
      "the Mediterranean Sea 3859 3880 LOC\n",
      "North Atlantic 3947 3961 LOC\n"
     ]
    }
   ],
   "source": [
    "for ent in doc.ents[:100]:\n",
    "    if ent.label_ == 'LOC':\n",
    "        print(ent.text, ent.start_char, ent.end_char, ent.label_)"
   ]
  },
  {
   "cell_type": "markdown",
   "metadata": {},
   "source": [
    "Wyjaśnienie skrótów encji nazwanych znajduje się na stronie:\n",
    "https://spacy.io/api/annotation#named-entities"
   ]
  },
  {
   "cell_type": "code",
   "execution_count": null,
   "metadata": {},
   "outputs": [],
   "source": []
  }
 ],
 "metadata": {
  "kernelspec": {
   "display_name": "Python 3",
   "language": "python",
   "name": "python3"
  },
  "language_info": {
   "codemirror_mode": {
    "name": "ipython",
    "version": 3
   },
   "file_extension": ".py",
   "mimetype": "text/x-python",
   "name": "python",
   "nbconvert_exporter": "python",
   "pygments_lexer": "ipython3",
   "version": "3.5.2"
  }
 },
 "nbformat": 4,
 "nbformat_minor": 2
}
