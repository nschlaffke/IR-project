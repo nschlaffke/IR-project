{
 "cells": [
  {
   "cell_type": "code",
   "execution_count": 1,
   "metadata": {},
   "outputs": [],
   "source": [
    "import wikipedia\n",
    "import random\n",
    "from IPython.display import clear_output\n",
    "import pickle\n",
    "wikipedia.set_lang(\"en\")\n",
    "import numpy as np\n",
    "import spacy"
   ]
  },
  {
   "cell_type": "markdown",
   "metadata": {},
   "source": [
    "# Analiza gatunków ptaków świata\n",
    "Gromadzenie danych: wykorzystujemy Wikipedia API"
   ]
  },
  {
   "cell_type": "code",
   "execution_count": 2,
   "metadata": {},
   "outputs": [],
   "source": [
    "categories = [\"List_of_birds_of_Africa\", \"List_of_birds_of_Europe\", \n",
    "              \"Birds_of_the_United_States\", \"List_of_birds_of_Asia\",\n",
    "              \"List_of_birds_of_South_America\"]"
   ]
  },
  {
   "cell_type": "code",
   "execution_count": null,
   "metadata": {},
   "outputs": [],
   "source": [
    "all_birds = list()\n",
    "for category in categories:\n",
    "    all_birds += wikipedia.page(category).links\n",
    "    \n",
    "random.shuffle(all_birds)"
   ]
  },
  {
   "cell_type": "code",
   "execution_count": null,
   "metadata": {},
   "outputs": [],
   "source": [
    "considered_birds = all_birds[0:1000]"
   ]
  },
  {
   "cell_type": "code",
   "execution_count": null,
   "metadata": {},
   "outputs": [],
   "source": [
    "bird_pages = list()\n",
    "for i in range(1000):\n",
    "    try:\n",
    "        bird_pages.append(wikipedia.page(considered_birds[i]))\n",
    "    except:\n",
    "        pass\n",
    "    clear_output(wait=True)\n",
    "    print(str(i) + \"of\" + \"1000\")"
   ]
  },
  {
   "cell_type": "markdown",
   "metadata": {},
   "source": [
    "# Serializacja pobranych stron\n",
    "Pobrane strony przechowujemy jako listę wikipedia.page.\n",
    "Typ ten zapewnia nam dostęp do:\n",
    "- linków wychodzących: page.links\n",
    "- linków do zdjęć: page.images\n",
    "- zawartości strony: page.content\n",
    "- podsumowania: page.summary"
   ]
  },
  {
   "cell_type": "code",
   "execution_count": null,
   "metadata": {},
   "outputs": [],
   "source": [
    "pages_file = \"pages.bin\"\n",
    "with open(pages_file, 'wb') as file:\n",
    "    pickle.dump(bird_pages, file)"
   ]
  },
  {
   "cell_type": "markdown",
   "metadata": {},
   "source": [
    "# Początek analizy"
   ]
  },
  {
   "cell_type": "code",
   "execution_count": 4,
   "metadata": {},
   "outputs": [],
   "source": [
    "pages_file = \"pages.bin\"\n",
    "pages = None\n",
    "with open(pages_file, 'rb') as file:\n",
    "    pages = pickle.load(file)"
   ]
  },
  {
   "cell_type": "code",
   "execution_count": 5,
   "metadata": {},
   "outputs": [
    {
     "name": "stdout",
     "output_type": "stream",
     "text": [
      "[<WikipediaPage 'Blackish rail'>, <WikipediaPage 'Creamy-bellied thrush'>, <WikipediaPage 'Rusty-faced parrot'>, <WikipediaPage 'Bahia spinetail'>, <WikipediaPage 'Sickle-winged nightjar'>, <WikipediaPage 'Andean teal'>, <WikipediaPage 'Guaiabero'>, <WikipediaPage 'Buff-banded rail'>, <WikipediaPage 'Pallas's fish eagle'>]\n"
     ]
    }
   ],
   "source": [
    "print(pages[1:10])"
   ]
  },
  {
   "cell_type": "code",
   "execution_count": 6,
   "metadata": {},
   "outputs": [
    {
     "data": {
      "text/plain": [
       "\"Todd's sirystes\""
      ]
     },
     "execution_count": 6,
     "metadata": {},
     "output_type": "execute_result"
    }
   ],
   "source": [
    "sample_page = pages[np.random.randint(0, len(pages))]\n",
    "sample_page.title"
   ]
  },
  {
   "cell_type": "code",
   "execution_count": 7,
   "metadata": {},
   "outputs": [
    {
     "name": "stdout",
     "output_type": "stream",
     "text": [
      "Todd's sirystes (Sirystes subcanescens) is a species of bird in the family Tyrannidae. It was formerly considered conspecific with the sibilant sirystes.\n",
      "\n",
      "\n",
      "== Distribution and habitat ==\n",
      "It is found from Guyana throughout northeastern Amazonian Brazil. Its natural habitat is subtropical or tropical moist lowland forests.\n",
      "\n",
      "\n",
      "== References ==\n",
      "\n",
      "Donegan, T.M. 2013b. Vocal variation and species limits in the genus Sirystes (Tyrannidae). Conservacion Colombiana 19: 11-30.\n",
      "South American Classification Committee (May 1, 2014). \"Proposal (#610) to South American Classification Committee – Split Sirystes into two (A) or four (B) species\". Retrieved August 9, 2014.\n"
     ]
    }
   ],
   "source": [
    "text_data = sample_page.content\n",
    "print(text_data)"
   ]
  },
  {
   "cell_type": "markdown",
   "metadata": {},
   "source": [
    "Do ekstrakcji informacji geograficznych wykorzystujemy bibliotekę spacy.\n",
    "Należy pobrać model językowy komendą: sudo python3 -m spacy download en_core_web_sm"
   ]
  },
  {
   "cell_type": "code",
   "execution_count": 8,
   "metadata": {},
   "outputs": [],
   "source": [
    "nlp = spacy.load('en_core_web_sm')\n",
    "doc = nlp(text_data)"
   ]
  },
  {
   "cell_type": "code",
   "execution_count": 11,
   "metadata": {},
   "outputs": [],
   "source": [
    "for ent in doc.ents[:100]:\n",
    "    if ent.label_ == 'LOC':\n",
    "        print(ent.text, ent.start_char, ent.end_char, ent.label_)"
   ]
  },
  {
   "cell_type": "markdown",
   "metadata": {},
   "source": [
    "Wyjaśnienie skrótów encji nazwanych znajduje się na stronie:\n",
    "https://spacy.io/api/annotation#named-entities"
   ]
  },
  {
   "cell_type": "markdown",
   "metadata": {},
   "source": [
    "### Poszukiwanie państwa w którym żyje najwięcej ptaków"
   ]
  },
  {
   "cell_type": "code",
   "execution_count": 29,
   "metadata": {},
   "outputs": [],
   "source": [
    "import progressbar\n",
    "from geotext import GeoText\n",
    "class Container:\n",
    "    def __init__(self, page):\n",
    "        self.page = page"
   ]
  },
  {
   "cell_type": "code",
   "execution_count": 34,
   "metadata": {},
   "outputs": [],
   "source": [
    "c = [Container(p) for p in pages[:200]]"
   ]
  },
  {
   "cell_type": "code",
   "execution_count": 38,
   "metadata": {},
   "outputs": [
    {
     "data": {
      "text/plain": [
       "\"The spotted elachura or spotted wren-babbler (Elachura formosa) is a species of passerine bird found in the forests of the eastern Himalayas and Southeast Asia. In the past it was included in the babbler genus Spelaeornis as S. formosus, but molecular phylogenetic studies in 2014 provided evidence that it was distinct from the babblers and part of a basal lineage (one that diverged early) with no other close living relatives within the passerine bird clade Passerida. This led to the creation of a new family, Elachuridae, to accommodate just one species (a monotypic taxon).\\n\\n\\n== Description ==\\nThe spotted elachura measures 10 cm including its short tail. It is brown above and white below. It is dark brown all over, with rufous wings and tail. It also has white speckles all over its body, shifting to black barring on its wings and tail.\\n\\n\\n== Habitat and distribution ==\\nIt is found in Bangladesh, Bhutan, China, India, Laos, Myanmar, Nepal, and Vietnam. Its natural habitat is subtropical or tropical moist montane forests. This species is found in undergrowth and dense thickets of this type of forest, with a preference for thick fern ground cover, mossy rocks and decaying trunks of fallen trees and brushwood (often near stream or creek) long grass and scrub.\\n\\n\\n== References ==\\n\\n\\n== External links ==\\nScienceShot: Asian Bird Is a True Loner\\nWhat's old is new again: newly discovered songbird family is ancient\""
      ]
     },
     "execution_count": 38,
     "metadata": {},
     "output_type": "execute_result"
    }
   ],
   "source": [
    "c[0].page.content"
   ]
  },
  {
   "cell_type": "code",
   "execution_count": 40,
   "metadata": {},
   "outputs": [
    {
     "data": {
      "text/plain": [
       "['Bangladesh',\n",
       " 'Bhutan',\n",
       " 'China',\n",
       " 'India',\n",
       " 'Laos',\n",
       " 'Myanmar',\n",
       " 'Nepal',\n",
       " 'Vietnam']"
      ]
     },
     "execution_count": 40,
     "metadata": {},
     "output_type": "execute_result"
    }
   ],
   "source": [
    "GeoText(c[0].page.content).countries"
   ]
  },
  {
   "cell_type": "code",
   "execution_count": 35,
   "metadata": {},
   "outputs": [
    {
     "name": "stderr",
     "output_type": "stream",
     "text": [
      "100% (200 of 200) |######################| Elapsed Time: 0:00:08 Time:  0:00:08\n"
     ]
    }
   ],
   "source": [
    "bar = progressbar.ProgressBar(max_value=len(c)).start()\n",
    "for i in range(len(c)):\n",
    "    c[i].countries = GeoText(c[i].page.content).countries\n",
    "    bar.update(i+1)\n",
    "bar.finish()"
   ]
  },
  {
   "cell_type": "code",
   "execution_count": 36,
   "metadata": {},
   "outputs": [],
   "source": [
    "from collections import Counter"
   ]
  },
  {
   "cell_type": "code",
   "execution_count": 50,
   "metadata": {},
   "outputs": [
    {
     "data": {
      "text/plain": [
       "Counter({'Argentina': 1,\n",
       "         'Bolivia': 1,\n",
       "         'Brazil': 3,\n",
       "         'Colombia': 2,\n",
       "         'Paraguay': 1,\n",
       "         'Peru': 1,\n",
       "         'Venezuela': 1})"
      ]
     },
     "execution_count": 50,
     "metadata": {},
     "output_type": "execute_result"
    }
   ],
   "source": [
    "c0 = Counter(c[1].countries)\n",
    "c0"
   ]
  },
  {
   "cell_type": "code",
   "execution_count": 51,
   "metadata": {},
   "outputs": [
    {
     "data": {
      "text/plain": [
       "Counter({'Argentina': 1, 'Brazil': 1, 'Paraguay': 1, 'Uruguay': 1})"
      ]
     },
     "execution_count": 51,
     "metadata": {},
     "output_type": "execute_result"
    }
   ],
   "source": [
    "c1 = Counter(c[5].countries)\n",
    "c1"
   ]
  },
  {
   "cell_type": "code",
   "execution_count": 52,
   "metadata": {},
   "outputs": [
    {
     "data": {
      "text/plain": [
       "Counter({'Argentina': 2,\n",
       "         'Bolivia': 1,\n",
       "         'Brazil': 4,\n",
       "         'Colombia': 2,\n",
       "         'Paraguay': 2,\n",
       "         'Peru': 1,\n",
       "         'Uruguay': 1,\n",
       "         'Venezuela': 1})"
      ]
     },
     "execution_count": 52,
     "metadata": {},
     "output_type": "execute_result"
    }
   ],
   "source": [
    "c0+c1"
   ]
  },
  {
   "cell_type": "code",
   "execution_count": 54,
   "metadata": {},
   "outputs": [
    {
     "data": {
      "text/plain": [
       "[('French Guiana', 168),\n",
       " ('Brazil', 154),\n",
       " ('Argentina', 94),\n",
       " ('Peru', 73),\n",
       " ('Colombia', 69),\n",
       " ('Venezuela', 63),\n",
       " ('Bolivia', 58),\n",
       " ('India', 54),\n",
       " ('Brunei', 50),\n",
       " ('Ecuador', 42),\n",
       " ('Chile', 41),\n",
       " ('France', 39),\n",
       " ('Paraguay', 36),\n",
       " ('China', 35),\n",
       " ('Mexico', 33),\n",
       " ('Uruguay', 30),\n",
       " ('South Africa', 24),\n",
       " ('Canada', 24),\n",
       " ('Suriname', 23),\n",
       " ('Thailand', 22),\n",
       " ('Panama', 22),\n",
       " ('Australia', 22),\n",
       " ('Angola', 21),\n",
       " ('Spain', 20),\n",
       " ('United States', 20),\n",
       " ('Tanzania', 20),\n",
       " ('Guyana', 20),\n",
       " ('Kenya', 19),\n",
       " ('Indonesia', 18),\n",
       " ('Somalia', 16),\n",
       " ('Russia', 16),\n",
       " ('Botswana', 16),\n",
       " ('Pakistan', 15),\n",
       " ('Portugal', 15),\n",
       " ('Uganda', 15),\n",
       " ('Malaysia', 14),\n",
       " ('Ethiopia', 14),\n",
       " ('Ireland', 14),\n",
       " ('Namibia', 14),\n",
       " ('Japan', 13),\n",
       " ('Germany', 13),\n",
       " ('Mozambique', 13),\n",
       " ('Zimbabwe', 13),\n",
       " ('Turkey', 13),\n",
       " ('Zambia', 13),\n",
       " ('Iceland', 13),\n",
       " ('New Zealand', 12),\n",
       " ('Sudan', 11),\n",
       " ('Malawi', 11),\n",
       " ('Iran', 11),\n",
       " ('Nepal', 10),\n",
       " ('Vietnam', 10),\n",
       " ('Bhutan', 10),\n",
       " ('Greenland', 10),\n",
       " ('Myanmar', 10),\n",
       " ('United Kingdom', 10),\n",
       " ('South Sudan', 9),\n",
       " ('Cameroon', 9),\n",
       " ('Laos', 9),\n",
       " ('Senegal', 9),\n",
       " ('Nigeria', 9),\n",
       " ('Kazakhstan', 8),\n",
       " ('Madagascar', 8),\n",
       " ('Bangladesh', 8),\n",
       " ('Swaziland', 8),\n",
       " ('Nicaragua', 8),\n",
       " ('Costa Rica', 8),\n",
       " ('Philippines', 7),\n",
       " ('Mongolia', 7),\n",
       " ('Belize', 7),\n",
       " ('Central African Republic', 7),\n",
       " ('Guatemala', 7),\n",
       " ('Falkland Islands', 7),\n",
       " ('Sri Lanka', 6),\n",
       " ('Gabon', 6),\n",
       " ('Antarctica', 6),\n",
       " ('Denmark', 6),\n",
       " ('Israel', 6),\n",
       " ('Egypt', 6),\n",
       " ('Saudi Arabia', 6),\n",
       " ('Sweden', 6),\n",
       " ('Afghanistan', 5),\n",
       " ('Honduras', 5),\n",
       " ('Morocco', 5),\n",
       " ('Rwanda', 5),\n",
       " ('Iraq', 5),\n",
       " ('Netherlands', 5),\n",
       " ('Finland', 5),\n",
       " ('Oman', 5),\n",
       " ('Puerto Rico', 4),\n",
       " ('Taiwan', 4),\n",
       " ('Mauritania', 4),\n",
       " ('Hungary', 4),\n",
       " ('Georgia', 4),\n",
       " ('Burundi', 4),\n",
       " ('Seychelles', 4),\n",
       " ('Guinea', 4),\n",
       " ('Palau', 4),\n",
       " ('Cuba', 4),\n",
       " ('Tunisia', 4),\n",
       " ('Micronesia', 3),\n",
       " ('Algeria', 3),\n",
       " ('Eritrea', 3),\n",
       " ('Ghana', 3),\n",
       " ('Chad', 3),\n",
       " ('Lesotho', 3),\n",
       " ('El Salvador', 3),\n",
       " ('Liberia', 3),\n",
       " ('Ivory Coast', 3),\n",
       " ('Norway', 3),\n",
       " ('Belgium', 3),\n",
       " ('Italy', 3),\n",
       " ('Libya', 3),\n",
       " ('Sierra Leone', 3),\n",
       " ('United Arab Emirates', 3),\n",
       " ('Comoros', 3),\n",
       " ('Martinique', 3),\n",
       " ('Guadeloupe', 3),\n",
       " ('Uzbekistan', 2),\n",
       " ('Cyprus', 2),\n",
       " ('Anguilla', 2),\n",
       " ('Poland', 2),\n",
       " ('Turkmenistan', 2),\n",
       " ('Greece', 2),\n",
       " ('Cayman Islands', 2),\n",
       " ('Singapore', 2),\n",
       " ('Yemen', 2),\n",
       " ('Jordan', 2),\n",
       " ('Vanuatu', 2),\n",
       " ('Gambia', 2),\n",
       " ('Guam', 2),\n",
       " ('Saint Lucia', 2),\n",
       " ('Czech Republic', 2),\n",
       " ('Armenia', 2),\n",
       " ('Dominica', 2),\n",
       " ('Netherlands Antilles', 2),\n",
       " ('Estonia', 2),\n",
       " ('Christmas Island', 2),\n",
       " ('Barbados', 2),\n",
       " ('Tajikistan', 1),\n",
       " ('New Caledonia', 1),\n",
       " ('Papua New Guinea', 1),\n",
       " ('Ukraine', 1),\n",
       " ('Romania', 1),\n",
       " ('Cambodia', 1),\n",
       " ('Tonga', 1),\n",
       " ('Austria', 1),\n",
       " ('Bulgaria', 1),\n",
       " ('Hong Kong', 1),\n",
       " ('Malta', 1),\n",
       " ('Solomon Islands', 1),\n",
       " ('Azerbaijan', 1),\n",
       " ('French Polynesia', 1),\n",
       " ('Samoa', 1),\n",
       " ('Benin', 1),\n",
       " ('Saint Martin', 1),\n",
       " ('Lebanon', 1),\n",
       " ('Mali', 1),\n",
       " ('Montserrat', 1),\n",
       " ('Bermuda', 1),\n",
       " ('South Korea', 1),\n",
       " ('Slovakia', 1),\n",
       " ('Togo', 1),\n",
       " ('Lithuania', 1),\n",
       " ('Guinea-Bissau', 1),\n",
       " ('Bahamas', 1),\n",
       " ('Tuvalu', 1),\n",
       " ('Bahrain', 1),\n",
       " ('Reunion', 1),\n",
       " ('Haiti', 1),\n",
       " ('Equatorial Guinea', 1),\n",
       " ('Kuwait', 1),\n",
       " ('Syria', 1),\n",
       " ('Switzerland', 1),\n",
       " ('Aruba', 1),\n",
       " ('Fiji', 1)]"
      ]
     },
     "execution_count": 54,
     "metadata": {},
     "output_type": "execute_result"
    }
   ],
   "source": [
    "country_counter = Counter()\n",
    "for i in range(len(c)):\n",
    "    country_counter += Counter(c[i].countries)\n",
    "country_counter.most_common()"
   ]
  }
 ],
 "metadata": {
  "kernelspec": {
   "display_name": "Python 3",
   "language": "python",
   "name": "python3"
  },
  "language_info": {
   "codemirror_mode": {
    "name": "ipython",
    "version": 3
   },
   "file_extension": ".py",
   "mimetype": "text/x-python",
   "name": "python",
   "nbconvert_exporter": "python",
   "pygments_lexer": "ipython3",
   "version": "3.5.2"
  }
 },
 "nbformat": 4,
 "nbformat_minor": 2
}
