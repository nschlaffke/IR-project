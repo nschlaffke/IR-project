{
 "cells": [
  {
   "cell_type": "code",
   "execution_count": 4,
   "metadata": {},
   "outputs": [],
   "source": [
    "import wikipedia\n",
    "import random\n",
    "from IPython.display import clear_output\n",
    "import pickle\n",
    "wikipedia.set_lang(\"en\")\n",
    "import numpy as np\n",
    "import spacy"
   ]
  },
  {
   "cell_type": "markdown",
   "metadata": {},
   "source": [
    "# Analiza gatunków ptaków świata\n",
    "Gromadzenie danych: wykorzystujemy Wikipedia API"
   ]
  },
  {
   "cell_type": "code",
   "execution_count": 8,
   "metadata": {},
   "outputs": [],
   "source": [
    "categories = [\"List_of_birds_of_Africa\", \"List_of_birds_of_Europe\", \n",
    "              \"Birds_of_the_United_States\", \"List_of_birds_of_Asia\",\n",
    "              \"List_of_birds_of_South_America\"]"
   ]
  },
  {
   "cell_type": "code",
   "execution_count": 9,
   "metadata": {},
   "outputs": [],
   "source": [
    "all_birds = list()\n",
    "for category in categories:\n",
    "    all_birds += wikipedia.page(category).links\n",
    "    \n",
    "random.shuffle(all_birds)"
   ]
  },
  {
   "cell_type": "code",
   "execution_count": 10,
   "metadata": {},
   "outputs": [],
   "source": [
    "considered_birds = all_birds[0:1000]"
   ]
  },
  {
   "cell_type": "code",
   "execution_count": 11,
   "metadata": {},
   "outputs": [
    {
     "name": "stdout",
     "output_type": "stream",
     "text": [
      "999of1000\n"
     ]
    }
   ],
   "source": [
    "bird_pages = list()\n",
    "for i in range(1000):\n",
    "    try:\n",
    "        bird_pages.append(wikipedia.page(considered_birds[i]))\n",
    "    except:\n",
    "        pass\n",
    "    clear_output(wait=True)\n",
    "    print(str(i) + \"of\" + \"1000\")"
   ]
  },
  {
   "cell_type": "markdown",
   "metadata": {},
   "source": [
    "# Serializacja pobranych stron\n",
    "Pobrane strony przechowujemy jako listę wikipedia.page.\n",
    "Typ ten zapewnia nam dostęp do:\n",
    "- linków wychodzących: page.links\n",
    "- linków do zdjęć: page.images\n",
    "- zawartości strony: page.content\n",
    "- podsumowania: page.summary"
   ]
  },
  {
   "cell_type": "code",
   "execution_count": 12,
   "metadata": {},
   "outputs": [],
   "source": [
    "pages_file = \"pages.bin\"\n",
    "with open(pages_file, 'wb') as file:\n",
    "    pickle.dump(bird_pages, file)"
   ]
  },
  {
   "cell_type": "markdown",
   "metadata": {},
   "source": [
    "# Początek analizy"
   ]
  },
  {
   "cell_type": "code",
   "execution_count": 5,
   "metadata": {},
   "outputs": [],
   "source": [
    "pages_file = \"pages.bin\"\n",
    "pages = None\n",
    "with open(pages_file, 'rb') as file:\n",
    "    pages = pickle.load(file)"
   ]
  },
  {
   "cell_type": "code",
   "execution_count": 6,
   "metadata": {},
   "outputs": [
    {
     "name": "stdout",
     "output_type": "stream",
     "text": [
      "[<WikipediaPage 'Grey-naped antpitta'>, <WikipediaPage 'Shelley's greenbul'>, <WikipediaPage 'Sumatran ground cuckoo'>, <WikipediaPage 'Sharp-billed treehunter'>, <WikipediaPage 'Yellow-throated longclaw'>, <WikipediaPage 'Rufous-rumped seedeater'>, <WikipediaPage 'Tree martin'>, <WikipediaPage 'Acorn woodpecker'>, <WikipediaPage 'Little curlew'>]\n"
     ]
    }
   ],
   "source": [
    "print(pages[1:10])"
   ]
  },
  {
   "cell_type": "code",
   "execution_count": 7,
   "metadata": {},
   "outputs": [
    {
     "data": {
      "text/plain": [
       "'Potoo'"
      ]
     },
     "execution_count": 7,
     "metadata": {},
     "output_type": "execute_result"
    }
   ],
   "source": [
    "sample_page = pages[np.random.randint(0, len(pages))]\n",
    "sample_page.title"
   ]
  },
  {
   "cell_type": "code",
   "execution_count": 8,
   "metadata": {
    "scrolled": true
   },
   "outputs": [
    {
     "name": "stdout",
     "output_type": "stream",
     "text": [
      "Potoos (family Nyctibiidae) are a group of near passerine birds related to the nightjars and frogmouths. They are sometimes called poor-me-ones, after their haunting calls. There are seven species in one genus, Nyctibius, in tropical Central and South America.\n",
      "These are nocturnal insectivores which lack the bristles around the mouth found in the true nightjars. They hunt from a perch like a shrike or flycatcher. During the day they perch upright on tree stumps, camouflaged to look like part of the stump. The single spotted egg is laid directly on the top of a stump.\n",
      "\n",
      "\n",
      "== Evolution and taxonomy ==\n",
      "\n",
      "The potoos are today an exclusively New World family, but they apparently had a much more widespread distribution in the past. Fossil remains of potoos dating from the Oligocene and Eocene have been found in France and Germany. A complete skeleton of the genus Paraprefica has been found in Messel, Germany. It had skull and leg features similar to those of modern potoos, suggesting that it may be an early close relative of the modern potoos. Because the only fossils other than these ancient ones that have been found are recent ones of extant species, it is unknown if the family once had a global distribution which has contracted, or if the distribution of the family was originally restricted to the Old World and has shifted to the New World.\n",
      "A 1996 study of the mitochondrial DNA of the potoos supported the monophyly of the family although it did not support the previous assumption that it was closely related to the oilbirds. The study also found a great deal of genetic divergence between the species, suggesting that these species are themselves very old. The level of divergence is the highest of any genus of birds, being more typical of the divergence between genera or even families. This raises the possibility that there are several cryptic species to be discovered. For example, the northern potoo was for a long time considered to be the same species as the common potoo, but the two species have now been separated on the basis of their calls. In spite of this there is no morphological way to separate the two species.\n",
      "\n",
      "\n",
      "== Morphology ==\n",
      "The potoos are a highly conservative family in appearance, with all the species closely resembling one another; species accounts in ornithological literature remark on their unusual appearance. Potoos range from 21–58 cm in length. They resemble upright sitting nightjars, a closely related family (Caprimulgidae). They also resemble the frogmouths of Australasia, that are stockier and have much heavier bills. They have proportionally large heads for their body size and long wings and tails. The large head is dominated by a massive broad bill and enormous eyes. In the treatment of the family in the Handbook of the Birds of the World, Cohn-Haft describes the potoos as \"little more than a flying mouth and eyes\". The bill, while large and broad, is also short, barely projecting past the face. It is delicate, but has a unique \"tooth\" on the cutting edge of the upper mandible that may assist in foraging. Unlike the closely related nightjars, the potoos lack rictal bristles around the mouth. The legs and feet are weak and used only for perching.\n",
      "The eyes are large, even larger than those of nightjars. As in many species of nocturnal birds, they reflect the light of flashlights. Their eyes, which could be conspicuous to potential predators during the day, have unusual slits in the lids, which allow potoos to sense movement even when their eyes are closed. Their plumage is cryptic, helping them blend into the branches on which they spend their days.\n",
      "\n",
      "\n",
      "== Habitat and distribution ==\n",
      "The potoos have a Neotropical distribution. They range from Mexico to Argentina, with the greatest diversity occurring in the Amazon Basin, which holds five species. They are found in every Central and South American country except Chile. They also occur on three Caribbean islands: Jamaica, Hispaniola and Tobago. The potoos are generally highly sedentary, although there are occasional reports of vagrants, particularly species that have travelled on ships. All species occur in humid forests, although a few species also occur in drier forests.\n",
      "\n",
      "\n",
      "== Behavior ==\n",
      "\n",
      "The potoos are highly nocturnal and generally do not fly during the day. They spend the day perched on branches with the eyes half closed. With their cryptic plumage they resemble stumps, and should they detect potential danger they adopt a \"freeze\" position which even more closely resembles a broken branch. The transition between perching and the freeze position is gradual and hardly perceptible to the observer.\n",
      "The English zoologist Hugh Cott, describing Nyctibius griseus as \"this wonderful bird\", writes that it \"habitually selects the top of an upright stump as a receptacle for its egg, which usually occupies a small hollow just, and only just, large enough to contain it ... the stump selected had thrown up a new leader just below the point of fracture ... and the birds sat facing this in such a way that when viewed from behind they came into line and blended with the grey stem.\"\n",
      "\n",
      "\n",
      "=== Diet and feeding ===\n",
      "Potoos feed at dusk and at night on flying insects. Their typical foraging technique is to perch on a branch and occasionally fly out in the manner of a flycatcher in order to snatch a passing insect. They occasionally fly to vegetation to glean an insect off it before returning to their perch, but they do not attempt to obtain prey from the ground. Beetles form a large part of their diet, but they also take moths, grasshoppers and termites. One northern potoo was found with a small bird in its stomach as well. Having caught an insect, potoos swallow it whole without beating or crushing it.\n",
      "\n",
      "\n",
      "=== Breeding ===\n",
      "Potoos are monogamous breeders and both parents share responsibilities for incubating the egg and raising the chick. The family does not construct a nest of any kind, instead laying the single egg on a depression in a branch or at the top of a rotten stump. The egg is white with purple-brown spots. One parent, often the male, incubates the egg during the day, then the duties are shared during the night. Changeovers to relieve incubating parents and feed chicks are infrequent to minimise attention to the nest, as potoos are entirely reliant on camouflage to protect themselves and their nesting site from predators. The chick hatches about one month after laying and the nestling phase is two months, a considerable length of time for a landbird. The plumage of nestling potoos is white and once they are too large to hide under their parents they adopt the same freeze position as their parents, resembling clumps of fungus.\n",
      "\n",
      "\n",
      "=== Defense ===\n",
      "Mobbing behavior has also been observed among common potoos (Nyctibius griseus). Avian mobbing is a widespread behavior in which an individual or a group of birds deliberately confronts a potential predator. Mobbing birds crowd around the predator, approaching and retreating, sometimes even chasing and attacking the predator. They also emit loud repeated calls, which generally attract additional birds of other species to join the mobbing.\n",
      "The behaviors described above, suggest that common potoos adopt different defensive strategies depending upon circumstances. For a lone potoo, or brooding adult with an active predator close to the nest, the best course to avoid detection is to remain motionless and rely on camouflage. In the case of more distant, localized threat, however, the risks resulting from very gradual movement by an adult are exceeded by the less cryptic nesting. Nocturnal predators rely less on vision for locating prey therefore a different strategy may be required at night.\n",
      "\n",
      "\n",
      "== Species ==\n",
      "Genus Nyctibius Vieillot 1816\n",
      "Rufous potoo, Nyctibius bracteatus Gould 1846\n",
      "Great potoo, Nyctibius grandis (Gmelin 1789)\n",
      "Long-tailed potoo, Nyctibius aethereus (zu Wied-Neuwied 1820)\n",
      "N. a. aethereus (zu Wied-Neuwied 1820) (Large-tailed Potoo)\n",
      "N. a. chocoensis Chapman 1921\n",
      "N. a. longicaudatus (von Spix 1825) (Long-tailed Potoo)\n",
      "\n",
      "White-winged potoo, Nyctibius leucopterus (zu Wied-Neuwied 1821)\n",
      "Andean potoo, Nyctibius maculosus Ridgway 1912\n",
      "Common potoo or lesser potoo, Nyctibius griseus (Gmelin 1789)\n",
      "N. g. griseus (Gmelin 1789) (Grey Potoo)\n",
      "N. g. panamensis Ridgway 1912\n",
      "\n",
      "Northern potoo, Nyctibius jamaicensis (Gmelin 1789)\n",
      "N. j. jamaicensis subspecies-group\n",
      "N. j. abbotti Richmond 1917 (Hispaniolan Potoo)\n",
      "N. j. jamaicensis (Gmelin 1789) (Jamaica Potoo)\n",
      "\n",
      "N. j. mexicanus subspecies-group\n",
      "N. j. costaricensis Ridgway 1912 (Central American common potoo)\n",
      "N. j. lambi Davis 1959\n",
      "N. j. mexicanus Nelson 1900 (Mexican common potoo)\n",
      "\n",
      "\n",
      "== References ==\n",
      "\n",
      "Cestari, C., Guaraldo, A., & Gussoni, C (n.d.). Nesting behavior and parental care of common potoo (Nyctibius griseus) in southern Brazil. The Wilson journal of ornithology, 102-106\n",
      "Meek, K. (n.d.) Mobbing. Mobbing, 1-12\n",
      "\n",
      "\n",
      "== External links ==\n",
      "Potoo videos on the Internet Bird Collection\n"
     ]
    }
   ],
   "source": [
    "text_data = sample_page.content\n",
    "print(text_data)"
   ]
  },
  {
   "cell_type": "markdown",
   "metadata": {},
   "source": [
    "Do ekstrakcji informacji geograficznych wykorzystujemy bibliotekę spacy.\n",
    "Należy pobrać model językowy komendą: sudo python3 -m spacy download en_core_web_sm"
   ]
  },
  {
   "cell_type": "code",
   "execution_count": 9,
   "metadata": {},
   "outputs": [],
   "source": [
    "nlp = spacy.load('en_core_web_sm')\n",
    "doc = nlp(text_data)"
   ]
  },
  {
   "cell_type": "code",
   "execution_count": 10,
   "metadata": {},
   "outputs": [
    {
     "name": "stdout",
     "output_type": "stream",
     "text": [
      "Central and South America 234 259 LOC\n",
      "Australasia 2519 2530 LOC\n",
      "the Amazon Basin 3786 3802 LOC\n",
      "Central and South American 3854 3880 LOC\n",
      "Caribbean 3928 3937 LOC\n"
     ]
    }
   ],
   "source": [
    "for ent in doc.ents[:100]:\n",
    "    if ent.label_ == 'LOC':\n",
    "        print(ent.text, ent.start_char, ent.end_char, ent.label_)"
   ]
  },
  {
   "cell_type": "markdown",
   "metadata": {},
   "source": [
    "Wyjaśnienie skrótów encji nazwanych znajduje się na stronie:\n",
    "https://spacy.io/api/annotation#named-entities"
   ]
  },
  {
   "cell_type": "markdown",
   "metadata": {},
   "source": [
    "### Poszukiwanie państwa w którym żyje najwięcej ptaków"
   ]
  },
  {
   "cell_type": "code",
   "execution_count": 11,
   "metadata": {},
   "outputs": [],
   "source": [
    "import progressbar\n",
    "from geotext import GeoText\n",
    "class Container:\n",
    "    def __init__(self, page):\n",
    "        self.page = page"
   ]
  },
  {
   "cell_type": "code",
   "execution_count": 12,
   "metadata": {},
   "outputs": [],
   "source": [
    "c = [Container(p) for p in pages[:200]]"
   ]
  },
  {
   "cell_type": "code",
   "execution_count": 13,
   "metadata": {},
   "outputs": [
    {
     "data": {
      "text/plain": [
       "'The white-capped dipper (Cinclus leucocephalus) is an aquatic songbird found in South America. It is a small black bird with white spots. It is found in Bolivia, Colombia, Ecuador, Peru and Venezuela.\\n\\n\\n== References ==\\n\\nArteaga K. Nino.(2008). Son astutos y dificilmente caen en las redes de neblina, generalmente van en parejas en busca de alimento encontrado an orillas de los ríos. De estologia curiosa, prefieren ver al observador.\\n\\n\\n== External links ==\\n\"Cinclus\". Integrated Taxonomic Information System. \\nBird Forum page on White-capped Dipper (including photo)'"
      ]
     },
     "execution_count": 13,
     "metadata": {},
     "output_type": "execute_result"
    }
   ],
   "source": [
    "c[0].page.content"
   ]
  },
  {
   "cell_type": "code",
   "execution_count": 14,
   "metadata": {},
   "outputs": [
    {
     "data": {
      "text/plain": [
       "['Bolivia', 'Colombia', 'Ecuador', 'Peru', 'Venezuela']"
      ]
     },
     "execution_count": 14,
     "metadata": {},
     "output_type": "execute_result"
    }
   ],
   "source": [
    "GeoText(c[0].page.content).countries"
   ]
  },
  {
   "cell_type": "code",
   "execution_count": 15,
   "metadata": {},
   "outputs": [
    {
     "name": "stderr",
     "output_type": "stream",
     "text": [
      "100% (200 of 200) |######################| Elapsed Time: 0:01:27 Time:  0:01:27\n"
     ]
    }
   ],
   "source": [
    "bar = progressbar.ProgressBar(max_value=len(c)).start()\n",
    "for i in range(len(c)):\n",
    "    c[i].countries = GeoText(c[i].page.content).countries\n",
    "    bar.update(i+1)\n",
    "bar.finish()"
   ]
  },
  {
   "cell_type": "code",
   "execution_count": 16,
   "metadata": {},
   "outputs": [],
   "source": [
    "from collections import Counter"
   ]
  },
  {
   "cell_type": "code",
   "execution_count": 17,
   "metadata": {},
   "outputs": [
    {
     "data": {
      "text/plain": [
       "Counter({'Venezuela': 1})"
      ]
     },
     "execution_count": 17,
     "metadata": {},
     "output_type": "execute_result"
    }
   ],
   "source": [
    "c0 = Counter(c[1].countries)\n",
    "c0"
   ]
  },
  {
   "cell_type": "code",
   "execution_count": 18,
   "metadata": {},
   "outputs": [
    {
     "data": {
      "text/plain": [
       "Counter({'Angola': 1,\n",
       "         'Benin': 1,\n",
       "         'Burkina Faso': 1,\n",
       "         'Burundi': 1,\n",
       "         'Cameroon': 1,\n",
       "         'Central African Republic': 1,\n",
       "         'Chad': 1,\n",
       "         'Gabon': 1,\n",
       "         'Gambia': 1,\n",
       "         'Ghana': 1,\n",
       "         'Guinea': 1,\n",
       "         'Guinea-Bissau': 1,\n",
       "         'Ivory Coast': 1,\n",
       "         'Kenya': 1,\n",
       "         'Lesotho': 1,\n",
       "         'Liberia': 1,\n",
       "         'Malawi': 1,\n",
       "         'Mali': 1,\n",
       "         'Mozambique': 1,\n",
       "         'Niger': 1,\n",
       "         'Nigeria': 1,\n",
       "         'Rwanda': 1,\n",
       "         'Senegal': 1,\n",
       "         'Sierra Leone': 1,\n",
       "         'Somalia': 1,\n",
       "         'South Africa': 1,\n",
       "         'South Sudan': 1,\n",
       "         'Swaziland': 1,\n",
       "         'Tanzania': 1,\n",
       "         'Togo': 1,\n",
       "         'Uganda': 1,\n",
       "         'Zambia': 1,\n",
       "         'Zimbabwe': 1})"
      ]
     },
     "execution_count": 18,
     "metadata": {},
     "output_type": "execute_result"
    }
   ],
   "source": [
    "c1 = Counter(c[5].countries)\n",
    "c1"
   ]
  },
  {
   "cell_type": "code",
   "execution_count": 19,
   "metadata": {},
   "outputs": [
    {
     "data": {
      "text/plain": [
       "Counter({'Angola': 1,\n",
       "         'Benin': 1,\n",
       "         'Burkina Faso': 1,\n",
       "         'Burundi': 1,\n",
       "         'Cameroon': 1,\n",
       "         'Central African Republic': 1,\n",
       "         'Chad': 1,\n",
       "         'Gabon': 1,\n",
       "         'Gambia': 1,\n",
       "         'Ghana': 1,\n",
       "         'Guinea': 1,\n",
       "         'Guinea-Bissau': 1,\n",
       "         'Ivory Coast': 1,\n",
       "         'Kenya': 1,\n",
       "         'Lesotho': 1,\n",
       "         'Liberia': 1,\n",
       "         'Malawi': 1,\n",
       "         'Mali': 1,\n",
       "         'Mozambique': 1,\n",
       "         'Niger': 1,\n",
       "         'Nigeria': 1,\n",
       "         'Rwanda': 1,\n",
       "         'Senegal': 1,\n",
       "         'Sierra Leone': 1,\n",
       "         'Somalia': 1,\n",
       "         'South Africa': 1,\n",
       "         'South Sudan': 1,\n",
       "         'Swaziland': 1,\n",
       "         'Tanzania': 1,\n",
       "         'Togo': 1,\n",
       "         'Uganda': 1,\n",
       "         'Venezuela': 1,\n",
       "         'Zambia': 1,\n",
       "         'Zimbabwe': 1})"
      ]
     },
     "execution_count": 19,
     "metadata": {},
     "output_type": "execute_result"
    }
   ],
   "source": [
    "c0+c1"
   ]
  },
  {
   "cell_type": "code",
   "execution_count": 20,
   "metadata": {
    "scrolled": false
   },
   "outputs": [
    {
     "data": {
      "text/plain": [
       "[('Georgia', 66),\n",
       " ('India', 57),\n",
       " ('Russia', 49),\n",
       " ('Brazil', 37),\n",
       " ('New Zealand', 34),\n",
       " ('Australia', 34),\n",
       " ('United States', 33),\n",
       " ('Peru', 32),\n",
       " ('Canada', 31),\n",
       " ('Colombia', 31),\n",
       " ('China', 30),\n",
       " ('Venezuela', 29),\n",
       " ('Tanzania', 29),\n",
       " ('Ecuador', 26),\n",
       " ('Argentina', 26),\n",
       " ('Bolivia', 24),\n",
       " ('Japan', 24),\n",
       " ('Kenya', 24),\n",
       " ('South Africa', 22),\n",
       " ('Mexico', 22),\n",
       " ('Philippines', 20),\n",
       " ('Nigeria', 20),\n",
       " ('Chile', 20),\n",
       " ('Angola', 20),\n",
       " ('Uganda', 18),\n",
       " ('Turkey', 17),\n",
       " ('Iran', 15),\n",
       " ('Ethiopia', 15),\n",
       " ('Spain', 14),\n",
       " ('Indonesia', 14),\n",
       " ('Germany', 14),\n",
       " ('Mozambique', 14),\n",
       " ('Bangladesh', 13),\n",
       " ('Zambia', 13),\n",
       " ('France', 13),\n",
       " ('Sri Lanka', 12),\n",
       " ('Cameroon', 12),\n",
       " ('Thailand', 11),\n",
       " ('Rwanda', 11),\n",
       " ('Nepal', 11),\n",
       " ('Malawi', 11),\n",
       " ('Namibia', 11),\n",
       " ('Guinea', 10),\n",
       " ('Guyana', 10),\n",
       " ('French Guiana', 10),\n",
       " ('Costa Rica', 10),\n",
       " ('Israel', 10),\n",
       " ('Senegal', 9),\n",
       " ('Mongolia', 9),\n",
       " ('Gabon', 9),\n",
       " ('Falkland Islands', 9),\n",
       " ('Sweden', 9),\n",
       " ('Greece', 9),\n",
       " ('Panama', 9),\n",
       " ('Madagascar', 8),\n",
       " ('Burundi', 8),\n",
       " ('Pakistan', 8),\n",
       " ('Egypt', 8),\n",
       " ('Central African Republic', 8),\n",
       " ('Christmas Island', 8),\n",
       " ('Zimbabwe', 8),\n",
       " ('South Sudan', 8),\n",
       " ('Ireland', 8),\n",
       " ('Somalia', 8),\n",
       " ('Myanmar', 8),\n",
       " ('Afghanistan', 8),\n",
       " ('Italy', 7),\n",
       " ('Sierra Leone', 7),\n",
       " ('Cambodia', 7),\n",
       " ('Uruguay', 7),\n",
       " ('Vietnam', 7),\n",
       " ('Suriname', 7),\n",
       " ('Paraguay', 7),\n",
       " ('Bhutan', 6),\n",
       " ('Mali', 6),\n",
       " ('Armenia', 6),\n",
       " ('Togo', 6),\n",
       " ('Ivory Coast', 6),\n",
       " ('Bermuda', 6),\n",
       " ('Ghana', 6),\n",
       " ('Sudan', 6),\n",
       " ('Equatorial Guinea', 5),\n",
       " ('United Kingdom', 5),\n",
       " ('Swaziland', 5),\n",
       " ('Benin', 5),\n",
       " ('Portugal', 5),\n",
       " ('Iraq', 5),\n",
       " ('Chad', 5),\n",
       " ('Malaysia', 5),\n",
       " ('Botswana', 5),\n",
       " ('Gambia', 5),\n",
       " ('Poland', 5),\n",
       " ('Antarctica', 5),\n",
       " ('Laos', 5),\n",
       " ('Kazakhstan', 5),\n",
       " ('Guinea-Bissau', 4),\n",
       " ('Morocco', 4),\n",
       " ('Eritrea', 4),\n",
       " ('Bulgaria', 4),\n",
       " ('Ukraine', 4),\n",
       " ('Cyprus', 4),\n",
       " ('Denmark', 4),\n",
       " ('Jordan', 4),\n",
       " ('Finland', 4),\n",
       " ('Liberia', 4),\n",
       " ('Micronesia', 4),\n",
       " ('Maldives', 4),\n",
       " ('Algeria', 4),\n",
       " ('Saudi Arabia', 4),\n",
       " ('Solomon Islands', 3),\n",
       " ('Brunei', 3),\n",
       " ('Norway', 3),\n",
       " ('Syria', 3),\n",
       " ('South Korea', 3),\n",
       " ('Mauritania', 3),\n",
       " ('Niger', 3),\n",
       " ('Austria', 3),\n",
       " ('Iceland', 3),\n",
       " ('Burkina Faso', 3),\n",
       " ('Taiwan', 3),\n",
       " ('Barbados', 3),\n",
       " ('El Salvador', 3),\n",
       " ('Romania', 3),\n",
       " ('Mauritius', 3),\n",
       " ('Kyrgyzstan', 3),\n",
       " ('Netherlands', 3),\n",
       " ('North Korea', 2),\n",
       " ('Uzbekistan', 2),\n",
       " ('New Caledonia', 2),\n",
       " ('Slovakia', 2),\n",
       " ('Nicaragua', 2),\n",
       " ('Cape Verde', 2),\n",
       " ('Singapore', 2),\n",
       " ('Comoros', 2),\n",
       " ('Guatemala', 2),\n",
       " ('Tunisia', 2),\n",
       " ('Croatia', 2),\n",
       " ('Czech Republic', 2),\n",
       " ('Turkmenistan', 2),\n",
       " ('Papua New Guinea', 2),\n",
       " ('Honduras', 2),\n",
       " ('Lesotho', 2),\n",
       " ('Bahamas', 2),\n",
       " ('Saint Martin', 2),\n",
       " ('Hungary', 2),\n",
       " ('Jamaica', 2),\n",
       " ('Lebanon', 2),\n",
       " ('Hong Kong', 2),\n",
       " ('Marshall Islands', 2),\n",
       " ('Fiji', 2),\n",
       " ('Belgium', 2),\n",
       " ('Guam', 1),\n",
       " ('Gibraltar', 1),\n",
       " ('Oman', 1),\n",
       " ('Libya', 1),\n",
       " ('American Samoa', 1),\n",
       " ('Anguilla', 1),\n",
       " ('Dominican Republic', 1),\n",
       " ('Greenland', 1),\n",
       " ('Seychelles', 1),\n",
       " ('Serbia', 1),\n",
       " ('United Arab Emirates', 1),\n",
       " ('Tajikistan', 1),\n",
       " ('Faroe Islands', 1),\n",
       " ('Vatican', 1),\n",
       " ('Cuba', 1),\n",
       " ('Switzerland', 1),\n",
       " ('Djibouti', 1),\n",
       " ('Mayotte', 1),\n",
       " ('Norfolk Island', 1),\n",
       " ('Aruba', 1),\n",
       " ('Saint Helena', 1),\n",
       " ('Guernsey', 1),\n",
       " ('Belarus', 1),\n",
       " ('Tuvalu', 1)]"
      ]
     },
     "execution_count": 20,
     "metadata": {},
     "output_type": "execute_result"
    }
   ],
   "source": [
    "country_counter = Counter()\n",
    "for i in range(len(c)):\n",
    "    country_counter += Counter(c[i].countries)\n",
    "country_counter.most_common()"
   ]
  },
  {
   "cell_type": "code",
   "execution_count": 26,
   "metadata": {},
   "outputs": [],
   "source": [
    "import urllib\n",
    "import simplejson\n",
    "import folium\n",
    "import time\n",
    "\n",
    "googleGeocodeUrl = 'http://maps.googleapis.com/maps/api/geocode/json?'\n",
    "\n",
    "def get_coordinates(query, from_sensor=False):\n",
    "    query = query.encode('utf-8')\n",
    "    params = {\n",
    "        'address': query,\n",
    "        'sensor': \"true\" if from_sensor else \"false\"\n",
    "    }\n",
    "    url = googleGeocodeUrl + urllib.parse.urlencode(params)\n",
    "    json_response = urllib.request.urlopen(url)\n",
    "    response = simplejson.loads(json_response.read())\n",
    "    if response['results']:\n",
    "        location = response['results'][0]['geometry']['location']\n",
    "        latitude, longitude = location['lat'], location['lng']\n",
    "    else:\n",
    "        latitude, longitude = None, None\n",
    "    return latitude, longitude"
   ]
  },
  {
   "cell_type": "code",
   "execution_count": 29,
   "metadata": {},
   "outputs": [
    {
     "name": "stdout",
     "output_type": "stream",
     "text": [
      "[(32.1656221, -82.9000751), (20.593684, 78.96288), (61.52401, 105.318756), (-14.235004, -51.92528), (-40.900557, 174.885971), (-25.274398, 133.775136), (37.09024, -95.712891), (-9.189967, -75.015152), (56.130366, -106.346771), (4.570868, -74.297333), (35.86166, 104.195397), (6.42375, -66.58973), (-6.369028, 34.888822), (-1.831239, -78.18340599999999), (-38.416097, -63.61667199999999)]\n",
      "15\n"
     ]
    }
   ],
   "source": [
    "locations = [i[0] for i in country_counter.most_common(15)]\n",
    "most_coords = []\n",
    "for loc in locations:\n",
    "    la,lo = get_coordinates(loc, from_sensor=True)\n",
    "    time.sleep(0.1)\n",
    "    if la != None:\n",
    "        most_coords.append((la,lo))\n",
    "print(most_coords)\n",
    "print(len(most_coords))"
   ]
  },
  {
   "cell_type": "code",
   "execution_count": 30,
   "metadata": {},
   "outputs": [
    {
     "data": {
      "text/html": [
       "<div style=\"width:100%;\"><div style=\"position:relative;width:100%;height:0;padding-bottom:60%;\"><iframe src=\"data:text/html;charset=utf-8;base64,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\" style=\"position:absolute;width:100%;height:100%;left:0;top:0;border:none !important;\" allowfullscreen webkitallowfullscreen mozallowfullscreen></iframe></div></div>"
      ],
      "text/plain": [
       "<folium.folium.Map at 0x7fb567615978>"
      ]
     },
     "execution_count": 30,
     "metadata": {},
     "output_type": "execute_result"
    }
   ],
   "source": [
    "START = [0, 0]\n",
    "coords =   most_coords\n",
    "\n",
    "map_animals = folium.Map(location=START, zoom_start=0, tiles='cartodbpositron', width=640, height=480)\n",
    "\n",
    "[folium.CircleMarker(coords[i], radius=1,\n",
    "                color='#0080bb', fill_color='#0080bb').add_to(map_animals) for i in range(len(coords))]\n",
    "\n",
    "map_animals"
   ]
  },
  {
   "cell_type": "markdown",
   "metadata": {},
   "source": [
    "### Grupowanie ptaków na podstawie siedlisk "
   ]
  },
  {
   "cell_type": "markdown",
   "metadata": {},
   "source": [
    "Podobieństwo między dwoma gatunkami ptaków liczymy z poniższego wzoru (iloczyn lokalizacji w których występują przez ich sumę).\n",
    "$$ sim(x^i,x^j)=\\frac{|(x_k^i,x_k^j):x_k^i = x_k^j = 1|}{|(x_k^i,x_k^j):x_k^i \\lor x_k^j = 1)|}$$"
   ]
  },
  {
   "cell_type": "code",
   "execution_count": null,
   "metadata": {},
   "outputs": [],
   "source": [
    "def similarity(b1,b2):\n",
    "    c1,c2 = Counter(b1.countries), Counter(b2.countries)\n",
    "    locations_sum = len(c1 + c2)\n",
    "    locations_intersection = len(c1 + c2)\n",
    "    if locations_sum > 0:\n",
    "        return locations_intersection/locations_sum\n",
    "    else:\n",
    "        return 0"
   ]
  },
  {
   "cell_type": "markdown",
   "metadata": {},
   "source": [
    "Za podobieństwo pomiędzy grupami przyjmujemy minimalne podobieństwo między dwoma gatunkami należącymi do oddzielnych grup.\n",
    "$$ sim(G^I,G^M)=min\\{sim(x^i,x^j):x^i \\in G^I,x^j \\in G^M \\}$$"
   ]
  },
  {
   "cell_type": "code",
   "execution_count": null,
   "metadata": {},
   "outputs": [],
   "source": [
    "def groupSimilarity(g1, g2):\n",
    "    minSimilarity = 1\n",
    "    \n",
    "    for g1_ele in g1: \n",
    "        for g2_ele in g2:\n",
    "            tmp = similarity(g1_ele,g2_ele)\n",
    "            if tmp < minSimilarity:\n",
    "                minSimilarity = tmp\n",
    "            if minSimilarity == 0:\n",
    "                return minSimilarity\n",
    "            \n",
    "    return minSimilarity"
   ]
  },
  {
   "cell_type": "markdown",
   "metadata": {},
   "source": [
    "W następnym kroku sprawdzamy czy istnieją grupy podobne do siebie, jeśli tak te o największym podobieństwie i łączymy je ze sobą.\n",
    "$$ G^I,G^M=argmax\\{sim(G^I,G^M):G^I \\in G,G^M \\in G, G^I\\neq G^M \\}$$\n",
    "\n",
    "$$sim(G^I,G^M) > 0$$"
   ]
  },
  {
   "cell_type": "code",
   "execution_count": null,
   "metadata": {
    "scrolled": false
   },
   "outputs": [],
   "source": [
    "def similarities(groups):\n",
    "    maxGroupSimilarity, x, y = 0, 0, 0\n",
    "    \n",
    "    for g1_ele in groups: \n",
    "        for g2_ele in groups:\n",
    "            if g1_ele != g2_ele:\n",
    "                tmp = groupSimilarity(g1_ele, g2_ele)\n",
    "                if maxGroupSimilarity < tmp: \n",
    "                    maxGroupSimilarity, x, y = tmp, g1_ele, g2_ele\n",
    "                    \n",
    "    if maxGroupSimilarity > 0:\n",
    "        groups.remove(x)\n",
    "        groups.remove(y)\n",
    "        groups.append(x + y)\n",
    "        groups = similarities(groups)\n",
    "        \n",
    "    return groups\n",
    "\n",
    "groups = []\n",
    "for group in c[0:75]:\n",
    "    groups.append([group])\n",
    "groups = similarities(groups)\n",
    "for group in groups:\n",
    "    locations = Counter()\n",
    "    print(\"*****GRUPA*****\")\n",
    "    print(\"Zwierzęta:\")\n",
    "    for element in group:\n",
    "        print(element.page.title)\n",
    "        locations += Counter(element.countries)\n",
    "    print(\"***Kraje:***\")\n",
    "    print(locations.most_common(10))"
   ]
  },
  {
   "cell_type": "code",
   "execution_count": null,
   "metadata": {},
   "outputs": [],
   "source": [
    "locations = []\n",
    "for group in groups:\n",
    "    loc = Counter()\n",
    "    for element in group:\n",
    "        loc += Counter(element.countries)\n",
    "    locations.append([i[0] for i in loc.most_common(10)])\n",
    "    print(locations[-1])"
   ]
  },
  {
   "cell_type": "code",
   "execution_count": null,
   "metadata": {},
   "outputs": [],
   "source": [
    "import time\n",
    "\n",
    "group_coords = []\n",
    "for loc in locations:\n",
    "    coords = []\n",
    "    for element in loc:\n",
    "        la,lo = get_coordinates(element, from_sensor=True)\n",
    "        time.sleep(0.1)\n",
    "        if la != None:\n",
    "            coords.append((la,lo))\n",
    "    group_coords.append(coords)\n",
    "    print(coords)"
   ]
  },
  {
   "cell_type": "code",
   "execution_count": null,
   "metadata": {},
   "outputs": [],
   "source": [
    "START = [0, 0]\n",
    "coords =  group_coords[6]\n",
    "\n",
    "map_animals = folium.Map(location=START, zoom_start=0, tiles='cartodbpositron', width=640, height=480)\n",
    "\n",
    "[folium.CircleMarker(coords[i], radius=1,\n",
    "                color='#0080bb', fill_color='#0080bb').add_to(map_animals) for i in range(len(coords))]\n",
    "\n",
    "map_animals"
   ]
  },
  {
   "cell_type": "code",
   "execution_count": null,
   "metadata": {},
   "outputs": [],
   "source": [
    "START = [0, 0]\n",
    "coords =   group_coords[2]\n",
    "\n",
    "map_animals = folium.Map(location=START, zoom_start=0, tiles='cartodbpositron', width=640, height=480)\n",
    "\n",
    "[folium.CircleMarker(coords[i], radius=1,\n",
    "                color='#0080bb', fill_color='#0080bb').add_to(map_animals) for i in range(len(coords))]\n",
    "\n",
    "map_animals"
   ]
  }
 ],
 "metadata": {
  "kernelspec": {
   "display_name": "Python 3",
   "language": "python",
   "name": "python3"
  },
  "language_info": {
   "codemirror_mode": {
    "name": "ipython",
    "version": 3
   },
   "file_extension": ".py",
   "mimetype": "text/x-python",
   "name": "python",
   "nbconvert_exporter": "python",
   "pygments_lexer": "ipython3",
   "version": "3.5.2"
  }
 },
 "nbformat": 4,
 "nbformat_minor": 2
}
