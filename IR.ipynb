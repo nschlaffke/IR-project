{
 "cells": [
  {
   "cell_type": "code",
   "execution_count": 7,
   "metadata": {},
   "outputs": [],
   "source": [
    "import wikipedia\n",
    "import random\n",
    "from IPython.display import clear_output\n",
    "import pickle\n",
    "wikipedia.set_lang(\"en\")\n",
    "import numpy as np\n",
    "import spacy"
   ]
  },
  {
   "cell_type": "markdown",
   "metadata": {},
   "source": [
    "# Analiza gatunków ptaków świata\n",
    "Gromadzenie danych: wykorzystujemy Wikipedia API"
   ]
  },
  {
   "cell_type": "code",
   "execution_count": 8,
   "metadata": {},
   "outputs": [],
   "source": [
    "categories = [\"List_of_birds_of_Africa\", \"List_of_birds_of_Europe\", \n",
    "              \"Birds_of_the_United_States\", \"List_of_birds_of_Asia\",\n",
    "              \"List_of_birds_of_South_America\"]"
   ]
  },
  {
   "cell_type": "code",
   "execution_count": 9,
   "metadata": {},
   "outputs": [],
   "source": [
    "all_birds = list()\n",
    "for category in categories:\n",
    "    all_birds += wikipedia.page(category).links\n",
    "    \n",
    "random.shuffle(all_birds)"
   ]
  },
  {
   "cell_type": "code",
   "execution_count": 10,
   "metadata": {},
   "outputs": [],
   "source": [
    "considered_birds = all_birds[0:1000]"
   ]
  },
  {
   "cell_type": "code",
   "execution_count": 11,
   "metadata": {},
   "outputs": [
    {
     "name": "stdout",
     "output_type": "stream",
     "text": [
      "999of1000\n"
     ]
    }
   ],
   "source": [
    "bird_pages = list()\n",
    "for i in range(1000):\n",
    "    try:\n",
    "        bird_pages.append(wikipedia.page(considered_birds[i]))\n",
    "    except:\n",
    "        pass\n",
    "    clear_output(wait=True)\n",
    "    print(str(i) + \"of\" + \"1000\")"
   ]
  },
  {
   "cell_type": "markdown",
   "metadata": {},
   "source": [
    "# Serializacja pobranych stron\n",
    "Pobrane strony przechowujemy jako listę wikipedia.page.\n",
    "Typ ten zapewnia nam dostęp do:\n",
    "- linków wychodzących: page.links\n",
    "- linków do zdjęć: page.images\n",
    "- zawartości strony: page.content\n",
    "- podsumowania: page.summary"
   ]
  },
  {
   "cell_type": "code",
   "execution_count": 12,
   "metadata": {},
   "outputs": [],
   "source": [
    "pages_file = \"pages.bin\"\n",
    "with open(pages_file, 'wb') as file:\n",
    "    pickle.dump(bird_pages, file)"
   ]
  },
  {
   "cell_type": "markdown",
   "metadata": {},
   "source": [
    "# Początek analizy"
   ]
  },
  {
   "cell_type": "code",
   "execution_count": 13,
   "metadata": {},
   "outputs": [],
   "source": [
    "pages_file = \"pages.bin\"\n",
    "pages = None\n",
    "with open(pages_file, 'rb') as file:\n",
    "    pages = pickle.load(file)"
   ]
  },
  {
   "cell_type": "code",
   "execution_count": 14,
   "metadata": {},
   "outputs": [
    {
     "name": "stdout",
     "output_type": "stream",
     "text": [
      "[<WikipediaPage 'Grey-naped antpitta'>, <WikipediaPage 'Shelley's greenbul'>, <WikipediaPage 'Sumatran ground cuckoo'>, <WikipediaPage 'Sharp-billed treehunter'>, <WikipediaPage 'Yellow-throated longclaw'>, <WikipediaPage 'Rufous-rumped seedeater'>, <WikipediaPage 'Tree martin'>, <WikipediaPage 'Acorn woodpecker'>, <WikipediaPage 'Little curlew'>]\n"
     ]
    }
   ],
   "source": [
    "print(pages[1:10])"
   ]
  },
  {
   "cell_type": "code",
   "execution_count": 15,
   "metadata": {},
   "outputs": [
    {
     "data": {
      "text/plain": [
       "'White-capped albatross'"
      ]
     },
     "execution_count": 15,
     "metadata": {},
     "output_type": "execute_result"
    }
   ],
   "source": [
    "sample_page = pages[np.random.randint(0, len(pages))]\n",
    "sample_page.title"
   ]
  },
  {
   "cell_type": "code",
   "execution_count": 16,
   "metadata": {
    "scrolled": true
   },
   "outputs": [
    {
     "name": "stdout",
     "output_type": "stream",
     "text": [
      "The white-capped albatross (Thalassarche cauta steadi) is a mollymawk that breeds on the islands off of New Zealand. Not all experts agree that this form should be recognized as a separate species from the shy albatross, Thalassarche cauta. It is a medium-sized black, slate gray, and white albatross and is the largest of the mollymawks.\n",
      "\n",
      "\n",
      "== Taxonomy ==\n",
      "Mollymawks are a type of albatross that belong to Diomedeidae family and come from the Procellariiformes order, along with shearwaters, fulmars, storm petrels, and diving petrels. They share certain identifying features. First, they have nasal passages that attach to the upper bill called naricorns. Although the nostrils on the albatross are on the sides of the bill. The bills of Procellariiformes are also unique in that they are split into between seven and nine horny plates. Finally, they produce a stomach oil made up of wax esters and triglycerides that is stored in the proventriculus. This is used against predators as well as an energy rich food source for chicks and for the adults during their long flights. They also have a salt gland that is situated above the nasal passage and helps desalinate their bodies, due to the high amount of ocean water that they imbibe. It excretes a high saline solution from their nose.\n",
      "The white-capped albatross is part of a greater complex of albatrosses consisting of the shy albatross, Thasassarche cauta, Salvin's albatross, Thalassarche salvini, and Chatham albatross, Thalassarche eremita. In 1998, Robertson and Nunn recommended a four way split, some experts agreed. BirdLife International agreed in 2007, ACAP agreed in 2006, and Brooke agreed in 2004. The SACC agreed to a three-way split, leaving steadi, the white-capped albatross grouped with the shy albatross. James Clements has yet to agree on any of these splits. Finally, following Brooke, this species was shifted from Diomedea to Thalassarche, which was generally agreed upon by most experts.\n",
      "\n",
      "\n",
      "== Description ==\n",
      "The white-capped albatross averages 90 to 99 cm (35–39 in) in length, with a wingspan of 220 to 256 cm (87–101 in). It weighs 3.4 to 4.4 kg (7.5–9.7 lb) It has a bold white cap that contrasts with a pale silver gray face and a darker brow. Some adults have a white back with brown tipped feathers. They have a dark gray mantle and a black tail. Most of the rest of the body is white. Its bill is pale gray to blue with a yellow tip. Juveniles have a gray bill with a dark tip, and their head is darker, with gray to the collar.\n",
      "\n",
      "\n",
      "== Range and habitat ==\n",
      "They are endemic to the islands off the coast of New Zealand, with a population of 75,000 breeding pairs, estimated in 2007, and 350,000 to 375,000 total birds. Disappointment Island has 72,000 pairs, Auckland Island has 3,000 pairs, Adams Island (Auckland Islands) has 100 pairs, and Bollons Island (Antipodes Islands) has 100 pairs.\n",
      "Juvenile and non-breeding birds are believed to forage in the southwestern Atlantic and a recent DNA test of a South Georgia bird confirmed it. Also, using different techniques, scientists have proven that they forage off the coast of southwestern Africa. Juveniles are also believed to go as far as the south Atlantic and the southwestern Indian Ocean.\n",
      "\n",
      "\n",
      "== Behavior ==\n",
      "\n",
      "\n",
      "=== Feeding ===\n",
      "They are a surface feeder, but may utilize shallow dives for their food which is fish, cephalopods, tunicates, and crustacea.\n",
      "\n",
      "\n",
      "=== Reproduction ===\n",
      "The white-capped albatross breeds annually on rocks on small islands.\n",
      "\n",
      "\n",
      "== Conservation ==\n",
      "The IUCN classifies this species as near threatened, with an occurrence range of 77,700,000 km2 (30,000,000 sq mi) and a breeding range of 22 km2 (8.5 sq mi). The largest threat for this bird is longline and trawl fisheries. Net monitor cables were responsible for large numbers of deaths; however, they were phased out in 1992. Commercial exploitation of squid in Bass Strait may present a threat by reducing the food supply. Also, pigs on Auckland Island reduced nesting from 1972–1982, and feral cats also take small number of chicks.\n",
      "Since 2006, Auckland Island birds have been tracked, and this will continue.\n",
      "\n",
      "\n",
      "== Footnotes ==\n",
      "\n",
      "\n",
      "== References ==\n",
      "Abbott, C. L.; Double, M. C.; Gales, R.; Baker, G. B.; Lashko, A.; Robertson, C. J. R.; Ryan, P. G. (2006). \"Molecular provenance analysis for Shy and White-capped Albatrosses killed by fisheries interactions in Australia, New Zealand and South Africa\". Conservation Genetics. 7: 531–542. doi:10.1007/s10592-005-9064-y. \n",
      "ACAP (2007). \"Agreement on the Conservation of Albatrosses and Petrels : ACAP Species\". ACAP. Archived from the original on January 5, 2009. Retrieved 22 Feb 2009. \n",
      "Baker, G. B.; Double, M. C.; Gales, R.; Tuck, G. N.; Abbott, C. L.; Ryan, P. G.; Petersen, S. L.; Robertson, C. J. R.; Alderman, R. (2007). \"A global assessment of the impact of fisheries-related mortality on Shy and White-capped Albatrosses: conservation implications\". Biological Conservation. 137: 319–333. doi:10.1016/j.biocon.2007.02.012. \n",
      "BirdLife International (2008). \"Thalassarche steadi\". IUCN Red List of Threatened Species. Version 2008. International Union for Conservation of Nature. Retrieved 22 Feb 2009. \n",
      "BirdLife International (2008a). \"White-capped Albatross - BirdLife Species Factsheet\". Data Zone. Retrieved 22 Feb 2009. \n",
      "Brooke, M. (2004). \"Procellariidae\". Albatrosses And Petrels Across The World. Oxford, UK: Oxford University Press. ISBN 0-19-850125-0. \n",
      "Clements, James (2007). The Clements Checklist of the Birds of the World (6th ed.). Ithaca, NY: Cornell University Press. ISBN 978-0-8014-4501-9. \n",
      "Croxall, J. P.; Gales, R. (1998). \"Assessment of the conservation status of albatrosses\". In Robertson, G.; Gales, R. Albatross biology and conservation. Chipping Norton, Australia: Surrey Beatty & Sons. \n",
      "Double, M. C. (2003). \"Procellariiformes (Tubenosed Seabirds)\". In Hutchins, Michael; Jackson, Jerome A.; Bock, Walter J.; Olendorf, Donna. Grzimek's Animal Life Encyclopedia. 8 Birds I Tinamous and Ratites to Hoatzins. Joseph E. Trumpey, Chief Scientific Illustrator (2nd ed.). Farmington Hills, MI: Gale Group. pp. 107–111. ISBN 0-7876-5784-0. \n",
      "Dunn, Jon L.; Alderfer, Jonathan (2006). \"Albatrosses\". In Levitt, Barbara. National Geographic Field Guide to the Birds of North America (fifth ed.). Washington D.C.: National Geographic Society. p. 80. ISBN 978-0-7922-5314-3. \n",
      "Ehrlich, Paul R.; Dobkin, David, S.; Wheye, Darryl (1988). The Birders Handbook (First ed.). New York, NY: Simon & Schuster. pp. 29–31. ISBN 0-671-65989-8. \n",
      "Gales, R.; Brothers, N.; Reid, T. (1998). \"Seabird mortality in the Japanese tuna longline fishery around Australia, 1988-1995\". Biological Conservation. 86: 37–56. doi:10.1016/s0006-3207(98)00011-1. \n",
      "Phalan, B.; Phillips, R. A.; Double, M. C. (2004). \"A White-capped Albatross, Thalassarche [cuata] steadi, at South Georgia: first confirmed record in the south-western Atlantic\". Emu. 104: 359–361. doi:10.1071/MU03057. \n",
      "Remsen Jr., J. V.; et al. (December 2004). \"Proposal #155 to South American Check-list Committee: Split Shy Albatross Thalassarche cauta into two or three species\". South American Classification Committee. American Ornithologists' Union. Retrieved 18 Feb 2009. \n",
      "Remsen Jr., J. V.; et al. (February 2005). \"Proposal (#166) to South American Classification Committee: Re-lump Thalassarche eremita and Thalassarche salvini with Thalassarche cauta\". South American Classification Committee. American Ornithologists' Union. Retrieved 18 Feb 2009. \n",
      "Remsen Jr., J. V.; et al. (28 Feb 2008). \"Proposal (#255) to South American Classification Committee : Follow-up to Proposal 155: Split Thalassarche cauta into three species\". South American Classification Committee. American Ornithologists' Union. Retrieved 18 Feb 2009. \n",
      "Robertson, C. J. R.; Bell, D.; Sinclair, N.; Bell, B. D. (2003). \"Distribution of seabirds from New Zealand that overlap with fisheries worldwide\". Science for Conservation. Wellington, New Zealand: Department of Conservation. 233. \n",
      "Robertson, C. J. R.; Nunn, G. B. (1998). \"Towards a new taxonomy for albatrosses\". In Robertson, G.; Gales, R. Albatross biology and conservation. Chipping Norton, Australia: Surrey Beatty & Sons. pp. 13–19. \n",
      "Taylor, G. A. (2000). \"Action plan for seabird conservation in New Zealand. Wellington: Department of Conservation\". Threatened Species Occasional Publication. 16. \n",
      "Tennyson, A.; Imber, M.; Taylor, R. (1998). \"Numbers of Black-browed Mollymawks (Diomedea m. melanophrys) and White-capped Mollymawks (D. cauta steadi) at the Antipodes Islands in 1994-95 and their population trends in the New Zealand region\". Notornis. 45: 157–166. \n",
      "Thompson, D. R.; Sagar, P. M. (2006). \"Conduct a population and distributional study on White-capped Albatross at the Auckland Islands\". Unpublished annual report to the Conservation Services Programme, Department of Conservation. \n",
      "Thompson, D. R.; Sagar, P. M. (2007). \"Conduct a population and distributional study on White-capped Albatross at the Auckland Islands\". Unpublished annual report to the Conservation Services Programme, Department of Conservation. \n",
      "Watkins, B. (2008) in litt\n",
      "White, R. W.; Gillon, K. W.; Black, A. D.; Reid, J. B. (2002). The distribution of seabirds and marine mammals in Falkland Islands waters. Peterborough, U.K.: Joint Nature Conservation Committee. \n",
      "\n",
      "\n",
      "== External links ==\n"
     ]
    }
   ],
   "source": [
    "text_data = sample_page.content\n",
    "print(text_data)"
   ]
  },
  {
   "cell_type": "markdown",
   "metadata": {},
   "source": [
    "Do ekstrakcji informacji geograficznych wykorzystujemy bibliotekę spacy.\n",
    "Należy pobrać model językowy komendą: sudo python3 -m spacy download en_core_web_sm"
   ]
  },
  {
   "cell_type": "code",
   "execution_count": 17,
   "metadata": {},
   "outputs": [],
   "source": [
    "nlp = spacy.load('en_core_web_sm')\n",
    "doc = nlp(text_data)"
   ]
  },
  {
   "cell_type": "code",
   "execution_count": 18,
   "metadata": {},
   "outputs": [
    {
     "name": "stdout",
     "output_type": "stream",
     "text": [
      "Bollons Island 2827 2841 LOC\n",
      "Islands 2853 2860 LOC\n",
      "Atlantic 2952 2960 LOC\n",
      "South 2988 2993 LOC\n",
      "Africa 3125 3131 LOC\n",
      "the south Atlantic 3177 3195 LOC\n",
      "Indian Ocean 3217 3229 LOC\n",
      "Bass Strait 3871 3882 LOC\n",
      "Auckland Island 3947 3962 LOC\n"
     ]
    }
   ],
   "source": [
    "for ent in doc.ents[:100]:\n",
    "    if ent.label_ == 'LOC':\n",
    "        print(ent.text, ent.start_char, ent.end_char, ent.label_)"
   ]
  },
  {
   "cell_type": "markdown",
   "metadata": {},
   "source": [
    "Wyjaśnienie skrótów encji nazwanych znajduje się na stronie:\n",
    "https://spacy.io/api/annotation#named-entities"
   ]
  },
  {
   "cell_type": "markdown",
   "metadata": {},
   "source": [
    "### Poszukiwanie państwa w którym żyje najwięcej ptaków"
   ]
  },
  {
   "cell_type": "code",
   "execution_count": 19,
   "metadata": {},
   "outputs": [],
   "source": [
    "import progressbar\n",
    "from geotext import GeoText\n",
    "class Container:\n",
    "    def __init__(self, page):\n",
    "        self.page = page"
   ]
  },
  {
   "cell_type": "code",
   "execution_count": 20,
   "metadata": {},
   "outputs": [],
   "source": [
    "c = [Container(p) for p in pages[:200]]"
   ]
  },
  {
   "cell_type": "code",
   "execution_count": 21,
   "metadata": {},
   "outputs": [
    {
     "data": {
      "text/plain": [
       "'The white-capped dipper (Cinclus leucocephalus) is an aquatic songbird found in South America. It is a small black bird with white spots. It is found in Bolivia, Colombia, Ecuador, Peru and Venezuela.\\n\\n\\n== References ==\\n\\nArteaga K. Nino.(2008). Son astutos y dificilmente caen en las redes de neblina, generalmente van en parejas en busca de alimento encontrado an orillas de los ríos. De estologia curiosa, prefieren ver al observador.\\n\\n\\n== External links ==\\n\"Cinclus\". Integrated Taxonomic Information System. \\nBird Forum page on White-capped Dipper (including photo)'"
      ]
     },
     "execution_count": 21,
     "metadata": {},
     "output_type": "execute_result"
    }
   ],
   "source": [
    "c[0].page.content"
   ]
  },
  {
   "cell_type": "code",
   "execution_count": 22,
   "metadata": {},
   "outputs": [
    {
     "data": {
      "text/plain": [
       "['Bolivia', 'Colombia', 'Ecuador', 'Peru', 'Venezuela']"
      ]
     },
     "execution_count": 22,
     "metadata": {},
     "output_type": "execute_result"
    }
   ],
   "source": [
    "GeoText(c[0].page.content).countries"
   ]
  },
  {
   "cell_type": "code",
   "execution_count": 23,
   "metadata": {},
   "outputs": [
    {
     "name": "stderr",
     "output_type": "stream",
     "text": [
      "100% (200 of 200) |######################| Elapsed Time: 0:01:18 Time:  0:01:18\n"
     ]
    }
   ],
   "source": [
    "bar = progressbar.ProgressBar(max_value=len(c)).start()\n",
    "for i in range(len(c)):\n",
    "    c[i].countries = GeoText(c[i].page.content).countries\n",
    "    bar.update(i+1)\n",
    "bar.finish()"
   ]
  },
  {
   "cell_type": "code",
   "execution_count": 24,
   "metadata": {},
   "outputs": [],
   "source": [
    "from collections import Counter"
   ]
  },
  {
   "cell_type": "code",
   "execution_count": 25,
   "metadata": {},
   "outputs": [
    {
     "data": {
      "text/plain": [
       "Counter({'Venezuela': 1})"
      ]
     },
     "execution_count": 25,
     "metadata": {},
     "output_type": "execute_result"
    }
   ],
   "source": [
    "c0 = Counter(c[1].countries)\n",
    "c0"
   ]
  },
  {
   "cell_type": "code",
   "execution_count": 26,
   "metadata": {},
   "outputs": [
    {
     "data": {
      "text/plain": [
       "Counter({'Angola': 1,\n",
       "         'Benin': 1,\n",
       "         'Burkina Faso': 1,\n",
       "         'Burundi': 1,\n",
       "         'Cameroon': 1,\n",
       "         'Central African Republic': 1,\n",
       "         'Chad': 1,\n",
       "         'Gabon': 1,\n",
       "         'Gambia': 1,\n",
       "         'Ghana': 1,\n",
       "         'Guinea': 1,\n",
       "         'Guinea-Bissau': 1,\n",
       "         'Ivory Coast': 1,\n",
       "         'Kenya': 1,\n",
       "         'Lesotho': 1,\n",
       "         'Liberia': 1,\n",
       "         'Malawi': 1,\n",
       "         'Mali': 1,\n",
       "         'Mozambique': 1,\n",
       "         'Niger': 1,\n",
       "         'Nigeria': 1,\n",
       "         'Rwanda': 1,\n",
       "         'Senegal': 1,\n",
       "         'Sierra Leone': 1,\n",
       "         'Somalia': 1,\n",
       "         'South Africa': 1,\n",
       "         'South Sudan': 1,\n",
       "         'Swaziland': 1,\n",
       "         'Tanzania': 1,\n",
       "         'Togo': 1,\n",
       "         'Uganda': 1,\n",
       "         'Zambia': 1,\n",
       "         'Zimbabwe': 1})"
      ]
     },
     "execution_count": 26,
     "metadata": {},
     "output_type": "execute_result"
    }
   ],
   "source": [
    "c1 = Counter(c[5].countries)\n",
    "c1"
   ]
  },
  {
   "cell_type": "code",
   "execution_count": 27,
   "metadata": {},
   "outputs": [
    {
     "data": {
      "text/plain": [
       "Counter({'Angola': 1,\n",
       "         'Benin': 1,\n",
       "         'Burkina Faso': 1,\n",
       "         'Burundi': 1,\n",
       "         'Cameroon': 1,\n",
       "         'Central African Republic': 1,\n",
       "         'Chad': 1,\n",
       "         'Gabon': 1,\n",
       "         'Gambia': 1,\n",
       "         'Ghana': 1,\n",
       "         'Guinea': 1,\n",
       "         'Guinea-Bissau': 1,\n",
       "         'Ivory Coast': 1,\n",
       "         'Kenya': 1,\n",
       "         'Lesotho': 1,\n",
       "         'Liberia': 1,\n",
       "         'Malawi': 1,\n",
       "         'Mali': 1,\n",
       "         'Mozambique': 1,\n",
       "         'Niger': 1,\n",
       "         'Nigeria': 1,\n",
       "         'Rwanda': 1,\n",
       "         'Senegal': 1,\n",
       "         'Sierra Leone': 1,\n",
       "         'Somalia': 1,\n",
       "         'South Africa': 1,\n",
       "         'South Sudan': 1,\n",
       "         'Swaziland': 1,\n",
       "         'Tanzania': 1,\n",
       "         'Togo': 1,\n",
       "         'Uganda': 1,\n",
       "         'Venezuela': 1,\n",
       "         'Zambia': 1,\n",
       "         'Zimbabwe': 1})"
      ]
     },
     "execution_count": 27,
     "metadata": {},
     "output_type": "execute_result"
    }
   ],
   "source": [
    "c0+c1"
   ]
  },
  {
   "cell_type": "code",
   "execution_count": 28,
   "metadata": {},
   "outputs": [
    {
     "data": {
      "text/plain": [
       "[('Georgia', 66),\n",
       " ('India', 57),\n",
       " ('Russia', 49),\n",
       " ('Brazil', 37),\n",
       " ('Australia', 34),\n",
       " ('New Zealand', 34),\n",
       " ('United States', 33),\n",
       " ('Peru', 32),\n",
       " ('Canada', 31),\n",
       " ('Colombia', 31),\n",
       " ('China', 30),\n",
       " ('Venezuela', 29),\n",
       " ('Tanzania', 29),\n",
       " ('Argentina', 26),\n",
       " ('Ecuador', 26),\n",
       " ('Japan', 24),\n",
       " ('Kenya', 24),\n",
       " ('Bolivia', 24),\n",
       " ('Mexico', 22),\n",
       " ('South Africa', 22),\n",
       " ('Angola', 20),\n",
       " ('Nigeria', 20),\n",
       " ('Philippines', 20),\n",
       " ('Chile', 20),\n",
       " ('Uganda', 18),\n",
       " ('Turkey', 17),\n",
       " ('Iran', 15),\n",
       " ('Ethiopia', 15),\n",
       " ('Spain', 14),\n",
       " ('Germany', 14),\n",
       " ('Indonesia', 14),\n",
       " ('Mozambique', 14),\n",
       " ('France', 13),\n",
       " ('Zambia', 13),\n",
       " ('Bangladesh', 13),\n",
       " ('Cameroon', 12),\n",
       " ('Sri Lanka', 12),\n",
       " ('Rwanda', 11),\n",
       " ('Malawi', 11),\n",
       " ('Namibia', 11),\n",
       " ('Thailand', 11),\n",
       " ('Nepal', 11),\n",
       " ('Israel', 10),\n",
       " ('Guinea', 10),\n",
       " ('Costa Rica', 10),\n",
       " ('Guyana', 10),\n",
       " ('French Guiana', 10),\n",
       " ('Senegal', 9),\n",
       " ('Gabon', 9),\n",
       " ('Mongolia', 9),\n",
       " ('Falkland Islands', 9),\n",
       " ('Panama', 9),\n",
       " ('Greece', 9),\n",
       " ('Sweden', 9),\n",
       " ('Pakistan', 8),\n",
       " ('Central African Republic', 8),\n",
       " ('Ireland', 8),\n",
       " ('Zimbabwe', 8),\n",
       " ('Somalia', 8),\n",
       " ('Christmas Island', 8),\n",
       " ('Egypt', 8),\n",
       " ('South Sudan', 8),\n",
       " ('Myanmar', 8),\n",
       " ('Afghanistan', 8),\n",
       " ('Burundi', 8),\n",
       " ('Madagascar', 8),\n",
       " ('Vietnam', 7),\n",
       " ('Paraguay', 7),\n",
       " ('Cambodia', 7),\n",
       " ('Sierra Leone', 7),\n",
       " ('Italy', 7),\n",
       " ('Suriname', 7),\n",
       " ('Uruguay', 7),\n",
       " ('Bhutan', 6),\n",
       " ('Armenia', 6),\n",
       " ('Togo', 6),\n",
       " ('Bermuda', 6),\n",
       " ('Sudan', 6),\n",
       " ('Ghana', 6),\n",
       " ('Mali', 6),\n",
       " ('Ivory Coast', 6),\n",
       " ('Iraq', 5),\n",
       " ('Equatorial Guinea', 5),\n",
       " ('United Kingdom', 5),\n",
       " ('Laos', 5),\n",
       " ('Portugal', 5),\n",
       " ('Swaziland', 5),\n",
       " ('Malaysia', 5),\n",
       " ('Antarctica', 5),\n",
       " ('Gambia', 5),\n",
       " ('Benin', 5),\n",
       " ('Chad', 5),\n",
       " ('Kazakhstan', 5),\n",
       " ('Botswana', 5),\n",
       " ('Poland', 5),\n",
       " ('Liberia', 4),\n",
       " ('Saudi Arabia', 4),\n",
       " ('Maldives', 4),\n",
       " ('Denmark', 4),\n",
       " ('Jordan', 4),\n",
       " ('Bulgaria', 4),\n",
       " ('Finland', 4),\n",
       " ('Ukraine', 4),\n",
       " ('Algeria', 4),\n",
       " ('Morocco', 4),\n",
       " ('Micronesia', 4),\n",
       " ('Eritrea', 4),\n",
       " ('Cyprus', 4),\n",
       " ('Guinea-Bissau', 4),\n",
       " ('Netherlands', 3),\n",
       " ('Barbados', 3),\n",
       " ('Mauritius', 3),\n",
       " ('Romania', 3),\n",
       " ('Solomon Islands', 3),\n",
       " ('Niger', 3),\n",
       " ('South Korea', 3),\n",
       " ('Mauritania', 3),\n",
       " ('Burkina Faso', 3),\n",
       " ('Kyrgyzstan', 3),\n",
       " ('Austria', 3),\n",
       " ('El Salvador', 3),\n",
       " ('Iceland', 3),\n",
       " ('Syria', 3),\n",
       " ('Norway', 3),\n",
       " ('Taiwan', 3),\n",
       " ('Brunei', 3),\n",
       " ('Czech Republic', 2),\n",
       " ('Singapore', 2),\n",
       " ('Uzbekistan', 2),\n",
       " ('Saint Martin', 2),\n",
       " ('Marshall Islands', 2),\n",
       " ('Fiji', 2),\n",
       " ('Comoros', 2),\n",
       " ('Papua New Guinea', 2),\n",
       " ('Jamaica', 2),\n",
       " ('Bahamas', 2),\n",
       " ('Guatemala', 2),\n",
       " ('Lesotho', 2),\n",
       " ('Tunisia', 2),\n",
       " ('Lebanon', 2),\n",
       " ('Hong Kong', 2),\n",
       " ('Croatia', 2),\n",
       " ('Turkmenistan', 2),\n",
       " ('Honduras', 2),\n",
       " ('Nicaragua', 2),\n",
       " ('Cape Verde', 2),\n",
       " ('Slovakia', 2),\n",
       " ('Belgium', 2),\n",
       " ('North Korea', 2),\n",
       " ('Hungary', 2),\n",
       " ('New Caledonia', 2),\n",
       " ('Cuba', 1),\n",
       " ('Mayotte', 1),\n",
       " ('Belarus', 1),\n",
       " ('United Arab Emirates', 1),\n",
       " ('Anguilla', 1),\n",
       " ('Vatican', 1),\n",
       " ('Gibraltar', 1),\n",
       " ('Faroe Islands', 1),\n",
       " ('Dominican Republic', 1),\n",
       " ('Seychelles', 1),\n",
       " ('Guam', 1),\n",
       " ('Aruba', 1),\n",
       " ('Greenland', 1),\n",
       " ('Djibouti', 1),\n",
       " ('Switzerland', 1),\n",
       " ('Norfolk Island', 1),\n",
       " ('Oman', 1),\n",
       " ('Libya', 1),\n",
       " ('Guernsey', 1),\n",
       " ('American Samoa', 1),\n",
       " ('Saint Helena', 1),\n",
       " ('Tuvalu', 1),\n",
       " ('Serbia', 1),\n",
       " ('Tajikistan', 1)]"
      ]
     },
     "execution_count": 28,
     "metadata": {},
     "output_type": "execute_result"
    }
   ],
   "source": [
    "country_counter = Counter()\n",
    "for i in range(len(c)):\n",
    "    country_counter += Counter(c[i].countries)\n",
    "country_counter.most_common()"
   ]
  },
  {
   "cell_type": "markdown",
   "metadata": {},
   "source": [
    "### Grupowanie ptaków na podstawie siedlisk "
   ]
  },
  {
   "cell_type": "markdown",
   "metadata": {},
   "source": [
    "Podobieństwo między dwoma gatunkami ptaków liczymy z poniższego wzoru (iloczyn lokalizacji w których występują przez ich sumę).\n",
    "$$ sim(x^i,x^j)=\\frac{|(x_k^i,x_k^j):x_k^i = x_k^j = 1|}{|(x_k^i,x_k^j):x_k^i \\lor x_k^j = 1)|}$$"
   ]
  },
  {
   "cell_type": "code",
   "execution_count": 29,
   "metadata": {},
   "outputs": [],
   "source": [
    "def similarity(b1,b2):\n",
    "    c1,c2 = Counter(b1.countries), Counter(b2.countries)\n",
    "    locations_sum = len(c1 + c2)\n",
    "    locations_intersection = len(c1 + c2)\n",
    "    if locations_sum > 0:\n",
    "        return locations_intersection/locations_sum\n",
    "    else:\n",
    "        return 0"
   ]
  },
  {
   "cell_type": "markdown",
   "metadata": {},
   "source": [
    "Za podobieństwo pomiędzy grupami przyjmujemy minimalne podobieństwo między dwoma gatunkami należącymi do oddzielnych grup.\n",
    "$$ sim(G^I,G^M)=min\\{sim(x^i,x^j):x^i \\in G^I,x^j \\in G^M \\}$$"
   ]
  },
  {
   "cell_type": "code",
   "execution_count": 35,
   "metadata": {},
   "outputs": [],
   "source": [
    "def groupSimilarity(g1, g2):\n",
    "    minSimilarity = 1\n",
    "    \n",
    "    for g1_ele in g1: \n",
    "        for g2_ele in g2:\n",
    "            tmp = similarity(g1_ele,g2_ele)\n",
    "            if tmp < minSimilarity:\n",
    "                minSimilarity = tmp\n",
    "            if minSimilarity == 0:\n",
    "                return minSimilarity\n",
    "            \n",
    "    return minSimilarity"
   ]
  },
  {
   "cell_type": "markdown",
   "metadata": {},
   "source": [
    "W następnym kroku sprawdzamy czy istnieją grupy podobne do siebie, jeśli tak te o największym podobieństwie i łączymy je ze sobą.\n",
    "$$ G^I,G^M=argmax\\{sim(G^I,G^M):G^I,G^M \\in G, G^I\\neq G^M \\}$$\n",
    "\n",
    "$$sim(G^I,G^M) > 0$$"
   ]
  },
  {
   "cell_type": "code",
   "execution_count": 31,
   "metadata": {},
   "outputs": [
    {
     "name": "stdout",
     "output_type": "stream",
     "text": [
      "*****GRUPA*****\n",
      "Zwierzęta:\n",
      "Indian cormorant\n",
      "Frigatebird\n",
      "Northern crombec\n",
      "Eastern bearded greenbul\n",
      "Violet-backed starling\n",
      "Orange-billed nightingale-thrush\n",
      "Painted bush quail\n",
      "Cackling goose\n",
      "***Kraje:***\n",
      "[('Canada', 14), ('India', 5), ('Christmas Island', 4), ('Cambodia', 2), ('Central African Republic', 2), ('Thailand', 2), ('Japan', 2), ('French Guiana', 2), ('Sri Lanka', 2), ('Mexico', 2)]\n",
      "*****GRUPA*****\n",
      "Zwierzęta:\n",
      "Red-crested pochard\n",
      "Red-billed leiothrix\n",
      "Bolivian white-crowned tapaculo\n",
      "Many-striped canastero\n",
      "Cinnamon-breasted warbler\n",
      "Collared lark\n",
      "Red-capped forest warbler\n",
      "Large blue flycatcher\n",
      "***Kraje:***\n",
      "[('Peru', 5), ('Colombia', 4), ('Spain', 2), ('Nepal', 2), ('Japan', 2), ('Ecuador', 2), ('India', 1), ('Bolivia', 1), ('Tanzania', 1), ('Namibia', 1)]\n",
      "*****GRUPA*****\n",
      "Zwierzęta:\n",
      "Hudson's canastero\n",
      "D'Arnaud's barbet\n",
      "Short-toed rock thrush\n",
      "White-sided flowerpiercer\n",
      "Serra do Mar tyrannulet\n",
      "Jackson's widowbird\n",
      "Plain-crested elaenia\n",
      "Mountain imperial pigeon\n",
      "***Kraje:***\n",
      "[('Brazil', 5), ('Peru', 4), ('Venezuela', 4), ('Bolivia', 3), ('Colombia', 2), ('India', 2), ('Suriname', 1), ('Myanmar', 1), ('Angola', 1), ('Botswana', 1)]\n",
      "*****GRUPA*****\n",
      "Zwierzęta:\n",
      "Brazilian ruby\n",
      "Chestnut-capped thrush\n",
      "Black-cowled saltator\n",
      "Hawfinch\n",
      "Little green sunbird\n",
      "Brown booby\n",
      "Rusty-breasted wren-babbler\n",
      "Chimney swift\n",
      "***Kraje:***\n",
      "[('Mexico', 3), ('Spain', 2), ('Germany', 2), ('United Kingdom', 2), ('Peru', 2), ('Iran', 2), ('Afghanistan', 2), ('Canada', 2), ('Brazil', 2), ('Sierra Leone', 1)]\n",
      "*****GRUPA*****\n",
      "Zwierzęta:\n",
      "Emperor penguin\n",
      "Moreau's sunbird\n",
      "European serin\n",
      "Spectacled petrel\n",
      "Pied wheatear\n",
      "Finn's weaver\n",
      "Grey-faced tit-babbler\n",
      "Black-breasted puffleg\n",
      "***Kraje:***\n",
      "[('Ecuador', 4), ('India', 3), ('New Zealand', 3), ('China', 2), ('Antarctica', 2), ('Tanzania', 2), ('Bulgaria', 1), ('Italy', 1), ('Romania', 1), ('Laos', 1)]\n",
      "*****GRUPA*****\n",
      "Zwierzęta:\n",
      "Chocó woodpecker\n",
      "White-rumped monjita\n",
      "Crested doradito\n",
      "Furtive flycatcher\n",
      "Thrush (bird)\n",
      "Herero chat\n",
      "Pale-breasted thrush\n",
      "Collared scops owl\n",
      "Black scoter\n",
      "Magellanic penguin\n",
      "Boyd's shearwater\n",
      "Common kestrel\n",
      "Long-tailed sylph\n",
      "Speke's weaver\n",
      "Long-tailed cisticola\n",
      "Chestnut-capped brush finch\n",
      "***Kraje:***\n",
      "[('India', 6), ('Argentina', 5), ('Philippines', 4), ('Bolivia', 3), ('Colombia', 3), ('Chile', 3), ('Brazil', 3), ('Kenya', 3), ('Micronesia', 3), ('Ecuador', 2)]\n",
      "*****GRUPA*****\n",
      "Zwierzęta:\n",
      "Andean swallow\n",
      "Screech owl\n",
      "Dot-winged crake\n",
      "Vireo\n",
      "IUCN Red List extinct in the wild species\n",
      "Tawny piculet\n",
      "Mountain parakeet\n",
      "Gnateater\n",
      "Striped woodcreeper\n",
      "Thick-billed saltator\n",
      "Mountain greenbul\n",
      "Least tern\n",
      "Petit's cuckooshrike\n",
      "Dohrn's thrush-babbler\n",
      "Indian robin\n",
      "Ferruginous babbler\n",
      "***Kraje:***\n",
      "[('India', 8), ('Argentina', 8), ('Brazil', 8), ('Peru', 6), ('Chile', 4), ('Bolivia', 4), ('Sri Lanka', 4), ('Colombia', 3), ('United States', 3), ('Kenya', 3)]\n",
      "*****GRUPA*****\n",
      "Zwierzęta:\n",
      "Pavonine quetzal\n",
      "Eurasian skylark\n",
      "Chinese penduline tit\n",
      "Bustard\n",
      "Rachel's malimbe\n",
      "Bearded barbet\n",
      "Sclater's tyrannulet\n",
      "Nuthatch\n",
      "Ploceidae\n",
      "Woodpecker\n",
      "Sinai rosefinch\n",
      "Recurvirostridae\n",
      "White-winged cotinga\n",
      "Mindanao lorikeet\n",
      "Black-chested tyrant\n",
      "Black-crowned night heron\n",
      "***Kraje:***\n",
      "[('Brazil', 5), ('Australia', 4), ('United States', 4), ('India', 4), ('Bolivia', 4), ('China', 4), ('Russia', 4), ('Japan', 3), ('Madagascar', 3), ('Canada', 3)]\n",
      "*****GRUPA*****\n",
      "Zwierzęta:\n",
      "Metallic starling\n",
      "Yellow-browed camaroptera\n",
      "Bearded scrub robin\n",
      "White-winged flufftail\n",
      "Red-collared babbler\n",
      "Coucal\n",
      "Spot-tailed antwren\n",
      "Large cuckooshrike\n",
      "Southern pochard\n",
      "Visayan bulbul\n",
      "Black-winged starling\n",
      "Drongo\n",
      "Palawan blue flycatcher\n",
      "Short-toed snake eagle\n",
      "Kermadec petrel\n",
      "African golden oriole\n",
      "***Kraje:***\n",
      "[('Madagascar', 3), ('Zimbabwe', 3), ('Ethiopia', 3), ('South Africa', 3), ('Zambia', 3), ('Senegal', 3), ('Uganda', 2), ('Philippines', 2), ('Malawi', 2), ('Ecuador', 2)]\n",
      "*****GRUPA*****\n",
      "Zwierzęta:\n",
      "South Ossetia\n",
      "Rock sparrow\n",
      "Red-chested sunbird\n",
      "Buru green pigeon\n",
      "Common ostrich\n",
      "Great-billed heron\n",
      "African hill babbler\n",
      "Leafbird\n",
      "Yellow-breasted tit\n",
      "Vermiculated fishing owl\n",
      "White-tailed shrike-tyrant\n",
      "Siberian rubythroat\n",
      "Great frigatebird\n",
      "Spectacled tern\n",
      "Regal sunbird\n",
      "Pennant-winged nightjar\n",
      "***Kraje:***\n",
      "[('Georgia', 63), ('Russia', 36), ('Tanzania', 8), ('India', 6), ('China', 6), ('Nigeria', 6), ('South Africa', 5), ('Uganda', 4), ('Ethiopia', 4), ('Australia', 3)]\n",
      "*****GRUPA*****\n",
      "Zwierzęta:\n",
      "Honeyguide\n",
      "White-eyed buzzard\n",
      "Ornithology\n",
      "Bush blackcap\n",
      "Hooded grebe\n",
      "Pied falconet\n",
      "Pitta\n",
      "African red-eyed bulbul\n",
      "Streaky-breasted flufftail\n",
      "Blue-headed crested flycatcher\n",
      "Armenian gull\n",
      "Sun parakeet\n",
      "Waller's starling\n",
      "Sand partridge\n",
      "Laughing gull\n",
      "Red-necked grebe\n",
      "***Kraje:***\n",
      "[('United States', 5), ('India', 5), ('Australia', 4), ('Turkey', 4), ('China', 4), ('Armenia', 4), ('Pakistan', 3), ('Uganda', 3), ('Canada', 3), ('South Africa', 3)]\n",
      "*****GRUPA*****\n",
      "Zwierzęta:\n",
      "Antarctic tern\n",
      "Burmese yuhina\n",
      "White-capped albatross\n",
      "Griffon vulture\n",
      "Masked shrike\n",
      "Black-headed ibis\n",
      "Philippine scops owl\n",
      "Slaty-bellied tesia\n",
      "Philippine creeper\n",
      "Potoo\n",
      "Little stint\n",
      "Solitary snipe\n",
      "American bittern\n",
      "White-banded tyrannulet\n",
      "Silver-throated tanager\n",
      "Sheathbill\n",
      "***Kraje:***\n",
      "[('New Zealand', 7), ('Australia', 5), ('Israel', 5), ('United States', 4), ('Germany', 4), ('India', 4), ('Japan', 4), ('Greece', 4), ('Iran', 4), ('Spain', 3)]\n",
      "*****GRUPA*****\n",
      "Zwierzęta:\n",
      "Short-winged cisticola\n",
      "Great spotted cuckoo\n",
      "Cape cormorant\n",
      "Elegant woodcreeper\n",
      "Pipit\n",
      "Greater adjutant\n",
      "Chestnut-capped babbler\n",
      "Grey peacock-pheasant\n",
      "White-capped dipper\n",
      "Grey-naped antpitta\n",
      "Shelley's greenbul\n",
      "Sumatran ground cuckoo\n",
      "Sharp-billed treehunter\n",
      "Yellow-throated longclaw\n",
      "Rufous-rumped seedeater\n",
      "Tree martin\n",
      "Acorn woodpecker\n",
      "Little curlew\n",
      "Brown pelican\n",
      "Rufous-collared kingfisher\n",
      "Dunnock\n",
      "Zanzibar red bishop\n",
      "Tsavo sunbird\n",
      "Caspian gull\n",
      "***Kraje:***\n",
      "[('Australia', 9), ('New Zealand', 9), ('United States', 8), ('India', 8), ('Tanzania', 7), ('Colombia', 5), ('Kenya', 5), ('Mozambique', 5), ('Indonesia', 5), ('Peru', 4)]\n",
      "*****GRUPA*****\n",
      "Zwierzęta:\n",
      "Boat-billed tody-tyrant\n",
      "Ruddy-breasted crake\n",
      "Magnolia warbler\n",
      "Redstart\n",
      "Little grey greenbul\n",
      "Common crane\n",
      "Tacarcuna bush tanager\n",
      "Painted spurfowl\n",
      "Rough-legged tyrannulet\n",
      "Arctic warbler\n",
      "Oilbird\n",
      "Grey-headed albatross\n",
      "Golden-tailed woodpecker\n",
      "Little grebe\n",
      "Rufous-crowned tody-flycatcher\n",
      "Corn bunting\n",
      "Black-chested prinia\n",
      "Mistle thrush\n",
      "Chestnut-cheeked starling\n",
      "Stripe-breasted rhabdornis\n",
      "Narrow-tailed starling\n",
      "Black-headed tanager\n",
      "Yellow-bellied flycatcher\n",
      "Sooty shearwater\n",
      "***Kraje:***\n",
      "[('New Zealand', 8), ('Japan', 8), ('Venezuela', 7), ('Australia', 6), ('Ecuador', 6), ('Colombia', 6), ('Russia', 6), ('Ireland', 6), ('India', 5), ('Germany', 4)]\n"
     ]
    }
   ],
   "source": [
    "def similarities(groups):\n",
    "    maxGroupSimilarity, x, y = 0, 0, 0\n",
    "    \n",
    "    for g1_ele in groups: \n",
    "        for g2_ele in groups:\n",
    "            if g1_ele != g2_ele:\n",
    "                tmp = groupSimilarity(g1_ele, g2_ele)\n",
    "                if maxGroupSimilarity < tmp: \n",
    "                    maxGroupSimilarity, x, y = tmp, g1_ele, g2_ele\n",
    "                    \n",
    "    if maxGroupSimilarity > 0:\n",
    "        groups.remove(x)\n",
    "        groups.remove(y)\n",
    "        groups.append(x + y)\n",
    "        groups = similarities(groups)\n",
    "        \n",
    "    return groups\n",
    "\n",
    "groups = []\n",
    "for group in c[0:200]:\n",
    "    groups.append([group])\n",
    "groups = similarities(groups)\n",
    "for group in groups:\n",
    "    locations = Counter()\n",
    "    print(\"*****GRUPA*****\")\n",
    "    print(\"Zwierzęta:\")\n",
    "    for element in group:\n",
    "        print(element.page.title)\n",
    "        locations += Counter(element.countries)\n",
    "    print(\"***Kraje:***\")\n",
    "    print(locations.most_common(10))"
   ]
  },
  {
   "cell_type": "code",
   "execution_count": 43,
   "metadata": {},
   "outputs": [
    {
     "name": "stdout",
     "output_type": "stream",
     "text": [
      "['Canada', 'India', 'Christmas Island', 'Cambodia', 'Central African Republic', 'Thailand', 'Japan', 'French Guiana', 'Sri Lanka', 'Mexico']\n",
      "['Peru', 'Colombia', 'Spain', 'Nepal', 'Japan', 'Ecuador', 'India', 'Bolivia', 'Tanzania', 'Namibia']\n"
     ]
    }
   ],
   "source": [
    "locations = []\n",
    "for group in groups[0:2]:\n",
    "    loc = Counter()\n",
    "    for element in group:\n",
    "        loc += Counter(element.countries)\n",
    "    locations.append([i[0] for i in loc.most_common(10)])\n",
    "    print(locations[-1])"
   ]
  },
  {
   "cell_type": "code",
   "execution_count": 32,
   "metadata": {},
   "outputs": [],
   "source": [
    "import urllib\n",
    "import simplejson\n",
    "import folium\n",
    "\n",
    "googleGeocodeUrl = 'http://maps.googleapis.com/maps/api/geocode/json?'\n",
    "\n",
    "def get_coordinates(query, from_sensor=False):\n",
    "    query = query.encode('utf-8')\n",
    "    params = {\n",
    "        'address': query,\n",
    "        'sensor': \"true\" if from_sensor else \"false\"\n",
    "    }\n",
    "    url = googleGeocodeUrl + urllib.parse.urlencode(params)\n",
    "    json_response = urllib.request.urlopen(url)\n",
    "    response = simplejson.loads(json_response.read())\n",
    "    if response['results']:\n",
    "        location = response['results'][0]['geometry']['location']\n",
    "        latitude, longitude = location['lat'], location['lng']\n",
    "    else:\n",
    "        latitude, longitude = None, None\n",
    "    return latitude, longitude"
   ]
  },
  {
   "cell_type": "code",
   "execution_count": 49,
   "metadata": {},
   "outputs": [
    {
     "name": "stdout",
     "output_type": "stream",
     "text": [
      "[(56.130366, -106.346771), (20.593684, 78.96288), (-10.447525, 105.690449), (12.565679, 104.990963), (6.611110999999999, 20.939444), (15.870032, 100.992541), (36.204824, 138.252924), (3.933889, -53.125782), (7.873053999999999, 80.77179699999999), (23.634501, -102.552784)]\n",
      "[(40.46366700000001, -3.74922), (28.394857, 84.12400799999999), (36.204824, 138.252924), (-1.831239, -78.18340599999999), (-16.290154, -63.58865299999999), (-6.369028, 34.888822), (-22.95764, 18.49041)]\n"
     ]
    }
   ],
   "source": [
    "group_coords = []\n",
    "for loc in locations:\n",
    "    coords = []\n",
    "    for element in loc:\n",
    "        la,lo = get_coordinates(element, from_sensor=False)\n",
    "        if la != None:\n",
    "            coords.append((la,lo))\n",
    "    group_coords.append(coords)\n",
    "    print(coords)"
   ]
  },
  {
   "cell_type": "code",
   "execution_count": 50,
   "metadata": {},
   "outputs": [
    {
     "data": {
      "text/html": [
       "<div style=\"width:100%;\"><div style=\"position:relative;width:100%;height:0;padding-bottom:60%;\"><iframe src=\"data:text/html;charset=utf-8;base64,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\" style=\"position:absolute;width:100%;height:100%;left:0;top:0;border:none !important;\" allowfullscreen webkitallowfullscreen mozallowfullscreen></iframe></div></div>"
      ],
      "text/plain": [
       "<folium.folium.Map at 0x7f4ea16bfac8>"
      ]
     },
     "execution_count": 50,
     "metadata": {},
     "output_type": "execute_result"
    }
   ],
   "source": [
    "START = [0, 0]\n",
    "coords =  group_coords[0]\n",
    "\n",
    "map_animals = folium.Map(location=START, zoom_start=0, tiles='cartodbpositron', width=640, height=480)\n",
    "\n",
    "[folium.CircleMarker(coords[i], radius=1,\n",
    "                color='#0080bb', fill_color='#0080bb').add_to(map_animals) for i in range(len(coords))]\n",
    "\n",
    "map_animals"
   ]
  },
  {
   "cell_type": "code",
   "execution_count": 51,
   "metadata": {},
   "outputs": [
    {
     "data": {
      "text/html": [
       "<div style=\"width:100%;\"><div style=\"position:relative;width:100%;height:0;padding-bottom:60%;\"><iframe src=\"data:text/html;charset=utf-8;base64,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\" style=\"position:absolute;width:100%;height:100%;left:0;top:0;border:none !important;\" allowfullscreen webkitallowfullscreen mozallowfullscreen></iframe></div></div>"
      ],
      "text/plain": [
       "<folium.folium.Map at 0x7f4ea16b9208>"
      ]
     },
     "execution_count": 51,
     "metadata": {},
     "output_type": "execute_result"
    }
   ],
   "source": [
    "START = [0, 0]\n",
    "coords =   group_coords[1]\n",
    "\n",
    "map_animals = folium.Map(location=START, zoom_start=0, tiles='cartodbpositron', width=640, height=480)\n",
    "\n",
    "[folium.CircleMarker(coords[i], radius=1,\n",
    "                color='#0080bb', fill_color='#0080bb').add_to(map_animals) for i in range(len(coords))]\n",
    "\n",
    "map_animals"
   ]
  }
 ],
 "metadata": {
  "kernelspec": {
   "display_name": "Python 3",
   "language": "python",
   "name": "python3"
  },
  "language_info": {
   "codemirror_mode": {
    "name": "ipython",
    "version": 3
   },
   "file_extension": ".py",
   "mimetype": "text/x-python",
   "name": "python",
   "nbconvert_exporter": "python",
   "pygments_lexer": "ipython3",
   "version": "3.5.2"
  }
 },
 "nbformat": 4,
 "nbformat_minor": 2
}
